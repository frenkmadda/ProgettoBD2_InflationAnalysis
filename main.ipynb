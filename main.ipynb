{
 "cells": [
  {
   "metadata": {},
   "cell_type": "markdown",
   "source": [
    "# Caricamento delle collezioni e collegamento al database\n",
    "Il Database è composto da 4 collezioni: food, global_dataset, global_inflation, consumer_price_index.\n",
    "- food: contiene i dati relativi all'inflazione del cibo per i paesi dell'est europa\n",
    "- global_dataset: contiene i dati relativi all'inflazione per i paesi del mondo divisi per 5 categorie\n",
    "- global_inflation: contiene i dati relativi all'inflazione per i paesi del mondo divisi per anno\n",
    "- consumer_price_index: contiene i dati relativi all'indice di prezzo al consumo per i paesi degli Stati Uniti"
   ],
   "id": "ea7728dcb53c3af6"
  },
  {
   "metadata": {},
   "cell_type": "code",
   "source": [
    "import pymongo\n",
    "import utils \n",
    "import pandas as pd\n",
    "client = pymongo.MongoClient(\"mongodb://localhost:27017/\")\n",
    "db = client[\"ProgettoBD2\"]\n",
    "food = db[\"food\"]\n",
    "global_dataset = db[\"global_dataset\"]\n",
    "global_inflation = db[\"global_inflation\"]\n",
    "us_cpi = db[\"consumer_price_index\"]"
   ],
   "id": "c69a9efb5e36c372",
   "outputs": [],
   "execution_count": null
  },
  {
   "metadata": {},
   "cell_type": "markdown",
   "source": [
    "## Collection: Food\n",
    "- Query per estrarre i paesi presenti nella collezione \\\n",
    "I paesi presenti nella collezione sono principalmente paesi dell'est Europa"
   ],
   "id": "d5969dcc645c4e93"
  },
  {
   "metadata": {},
   "cell_type": "code",
   "source": [
    "countries = food.distinct(\"country\")\n",
    "countries"
   ],
   "id": "3974e34c0872b498",
   "outputs": [],
   "execution_count": null
  },
  {
   "metadata": {},
   "cell_type": "markdown",
   "source": [
    "## Collection: Global Dataset\n",
    "Lista dei paesi presenti nella collezione"
   ],
   "id": "68e04b47367747f2"
  },
  {
   "metadata": {},
   "cell_type": "code",
   "source": [
    "countries = global_dataset.distinct(\"Country\")\n",
    "countries"
   ],
   "id": "33b2d0dcbe374887",
   "outputs": [],
   "execution_count": null
  },
  {
   "metadata": {},
   "cell_type": "markdown",
   "source": [
    "L'inflazione è suddivisa in categorie.\n",
    "- Query per la stampa delle categorie presenti nella collezione"
   ],
   "id": "3c56b28f9fa8dc5d"
  },
  {
   "metadata": {},
   "cell_type": "code",
   "source": "global_dataset.distinct(\"Series Name\")",
   "id": "88fb989eb396c9b5",
   "outputs": [],
   "execution_count": null
  },
  {
   "metadata": {},
   "cell_type": "markdown",
   "source": [
    "# Unione Europea \n",
    "Si è deciso di analizzare i paesi dell'Unione Europea presenti nella collezione global_dataset\n",
    "\n",
    "- Estrazione dei paesi dell'Unione Europea presenti nella collezione"
   ],
   "id": "6376839bf3c803f3"
  },
  {
   "metadata": {},
   "cell_type": "code",
   "source": [
    "query = {\"Country Code\": {\"$in\": [\"AUT\", \"BEL\", \"BGR\", \"HRV\", \"CYP\", \"CZE\", \"DNK\", \"EST\", \"FIN\", \"FRA\", \"DEU\", \"GRC\", \"HUN\", \"IRL\", \"ITA\", \"LVA\", \"LTU\", \"LUX\", \"MLT\", \"NLD\", \"POL\", \"PRT\", \"ROU\", \"SVK\", \"SVN\", \"ESP\", \"SWE\"]}}\n",
    "\n",
    "europeanCountries = global_dataset.find(query)\n",
    "\n",
    "europeanCountriesList = global_dataset.distinct(\"Country\", query)\n",
    "for country in europeanCountriesList:\n",
    "    print(country)"
   ],
   "id": "a67e74482f66d154",
   "outputs": [],
   "execution_count": null
  },
  {
   "metadata": {},
   "cell_type": "markdown",
   "source": [
    "Query che effettua la media anno per anno del tasso di inflazione nei paesi dell'unione europea di tutte le categorie.\n",
    "In sostanza vengono eliminate le categorie aggregando i 5 valori per ogni anno in una media. "
   ],
   "id": "2b754bbb29053e6c"
  },
  {
   "metadata": {},
   "cell_type": "code",
   "source": [
    "# Esecuzione dell'aggregazione\n",
    "result = utils.get_avg_infl_eur(global_dataset, europeanCountriesList)\n",
    "# Stampa dei risultati\n",
    "for doc in result:\n",
    "    print(doc)"
   ],
   "id": "e32b6db35534886a",
   "outputs": [],
   "execution_count": null
  },
  {
   "metadata": {},
   "cell_type": "markdown",
   "source": [
    "Analizzata l'inflazione dell'intera Unione Europea negli anni\n",
    " "
   ],
   "id": "a521c859f0f2880b"
  },
  {
   "metadata": {},
   "cell_type": "code",
   "source": [
    "europeanCountriesList = global_dataset.distinct(\"Country\", query)\n",
    "result = utils.get_food_inflation_eur_per_year(global_dataset, europeanCountriesList)\n",
    "output = {}\n",
    "\n",
    "  # Riempimento del dizionario con i risultati\n",
    "for doc in result: \n",
    "    doc.pop('_id')\n",
    "    doc.pop('Indicator Type')\n",
    "    doc.pop('Note')\n",
    "    output.update(doc)\n",
    "\n",
    "print(output)"
   ],
   "id": "4add4e95cff418d5",
   "outputs": [],
   "execution_count": null
  },
  {
   "metadata": {},
   "cell_type": "code",
   "source": [
    "import matplotlib.pyplot as plt\n",
    "\n",
    "# Estrazione degli anni e dei valori di inflazione dal dizionario\n",
    "anni = list(output.keys())\n",
    "inflazione = list(output.values())\n",
    "\n",
    "# Creazione del grafico\n",
    "plt.figure(figsize=(10, 6))\n",
    "plt.plot(anni, inflazione, marker='o', label='Inflazione annuale')\n",
    "plt.xlabel('Anno')\n",
    "plt.ylabel('Inflazione (%)')\n",
    "plt.title('Inflazione annuale nell\\'Unione Europea')\n",
    "plt.xticks(rotation=90)\n",
    "plt.legend()\n",
    "plt.show()"
   ],
   "id": "37e9c71ef54568b1",
   "outputs": [],
   "execution_count": null
  },
  {
   "metadata": {},
   "cell_type": "markdown",
   "source": [
    "## Integrazione con food: primi passi\n",
    "Nel Dataset Food non sono presenti molti paesi dell'Unione Europea, per questo motivo si è deciso di integrare i dati di food con quelli di global_dataset. \\\n",
    "Viene eseguita una query per estrarre i dati dell'inflazione dei paesi europei sul cibo da global_dataset sfruttando il campo Series Name per estrarre solo i valori inerenti il campo \"Food Consumer Price Inflation\". \\\n",
    " Questa query è stata effettuata utilizzando i Country Code dei paesi europei. \n"
   ],
   "id": "dade4413177e7d9b"
  },
  {
   "metadata": {},
   "cell_type": "code",
   "source": [
    "#todo: Implementare in app come sotto funzione dell'inflazione sul cibo totale\n",
    "\n",
    "europeanCountriesList = [\"AUT\", \"BEL\", \"BGR\", \"HRV\", \"CYP\", \"CZE\", \"DNK\", \"EST\", \"FIN\", \"FRA\", \"DEU\", \"GRC\", \"HUN\", \"IRL\", \"ITA\", \"LVA\", \"LTU\", \"LUX\", \"MLT\", \"NLD\", \"POL\", \"PRT\", \"ROU\", \"SVK\", \"SVN\", \"ESP\", \"SWE\"]\n",
    "\n",
    "result = utils.get_eu_food_infl_countries(global_dataset, europeanCountriesList)\n",
    "\n",
    "for doc in result:\n",
    "    doc.pop('_id')\n",
    "    doc.pop('Indicator Type')\n",
    "    doc.pop('Note')\n",
    "    print(doc)\n"
   ],
   "id": "641228aae9f93e1b",
   "outputs": [],
   "execution_count": null
  },
  {
   "metadata": {},
   "cell_type": "markdown",
   "source": [
    "### Query MongoDB per l'integrazione dei dati atta a raggruppare i dati di food per anno\n",
    "Inizialmente i dati erano raggruppati per mese, è stata effettuata una somma dei singoli valori open, close, high, low per ogni mese e per ogni paese. \\n\n",
    "- Nel dettaglio, prendiamo per esempio il valore low, settando un anno: se un paese aveva n valori low (Uno per ogni mese dell'anno presente) il nuovo valore low viene calcolato sommando gli n valori low. \\n\n"
   ],
   "id": "33d1ba0af8323c2c"
  },
  {
   "metadata": {},
   "cell_type": "code",
   "source": [
    "pipeline = [\n",
    "    {\n",
    "        \"$addFields\": {\n",
    "            \"year\": {\"$year\": \"$date\"},  # Estrai l'anno dalla data\n",
    "        }\n",
    "    },\n",
    "    {\n",
    "        \"$group\": {\n",
    "            \"_id\": {\"country\": \"$country\", \"year\": \"$year\"},  # Raggruppa per country e year\n",
    "            \"openSum\": {\"$sum\": \"$Open\"},  # Somma i valori di Open\n",
    "            \"highSum\": {\"$sum\": \"$High\"},  # Somma i valori di High\n",
    "            \"closeSum\": {\"$sum\": \"$Close\"},  # Somma i valori di Close\n",
    "            \"lowSum\": {\"$sum\": \"$Low\"},  # Somma i valori di Low\n",
    "        }\n",
    "    },\n",
    "    {\n",
    "        \"$project\": {\n",
    "            \"_id\": 0,\n",
    "            \"country\": \"$_id.country\",\n",
    "            \"year\": \"$_id.year\",\n",
    "            \"open\": \"$openSum\",\n",
    "            \"high\": \"$highSum\",\n",
    "            \"close\": \"$closeSum\",\n",
    "            \"low\": \"$lowSum\",\n",
    "        }\n",
    "    },\n",
    "]\n",
    "\n",
    "grouped_data = list(food.aggregate(pipeline))"
   ],
   "id": "2bf1b860b9ae7b62",
   "outputs": [],
   "execution_count": null
  },
  {
   "metadata": {},
   "cell_type": "markdown",
   "source": "",
   "id": "ebb97ff616a5ad01"
  },
  {
   "metadata": {},
   "cell_type": "markdown",
   "source": [
    "# Integrazione dei dati completa del data_set food con global Dataset\n",
    "- Vengono estratti i paesi distinti presenti in global_dataset e in food, viene eseguita la query per ottenere l'inflazione di ogni paese relativa al campo alimentare in global_dataset attraverso il campo Series Name. \\n\n",
    "- Viene in seguito definita una lista dei paesi presenti nel risultato della query e vengono ad essi aggiunti i paesi mancanti presenti nel dataset food con i relativi dati \n",
    "- Sono risultati alla fine solo due paesi mancanti: Somalia e South Sudan. I valori dell'inflazione sono stati presi dal valore High del dataset food, che rappresenta il massimo dell'inflazione risultante in quel periodo."
   ],
   "id": "1729acc457eacd0e"
  },
  {
   "metadata": {},
   "cell_type": "code",
   "source": [
    "#todo: Implementare in app\n",
    "\n",
    "country_codes = global_dataset.distinct(\"Country Code\")\n",
    "food_country_list = food.distinct(\"country\")\n",
    "\n",
    "result = list(utils.get_eu_food_infl_countries(global_dataset, country_codes))\n",
    "grouped_data_dict = {(doc['country'], doc['year']): doc['high'] for doc in grouped_data}\n",
    "existing_countries = [doc['Country'] for doc in result]\n",
    "\n",
    "for doc in result:\n",
    "    doc.pop('_id')\n",
    "    doc.pop('Indicator Type')\n",
    "    doc.pop('Note')\n",
    "\n",
    "for country in food_country_list:\n",
    "    if country not in existing_countries:\n",
    "        for year in range(1980, 2025): \n",
    "            high_value = grouped_data_dict.get((country, year))\n",
    "            if high_value is not None:\n",
    "                result.append({\n",
    "                    'country': country,\n",
    "                    'year': year,\n",
    "                    'infl': high_value\n",
    "                })\n",
    "                \n",
    "for doc in result:\n",
    "    print(doc)\n",
    "        "
   ],
   "id": "5ba8e17e4b4b852",
   "outputs": [],
   "execution_count": null
  },
  {
   "metadata": {},
   "cell_type": "markdown",
   "source": [
    "## Collection: Global Inflation\n",
    "Lista dei paesi presenti nella collezione"
   ],
   "id": "b6901ca16ed0b9a9"
  },
  {
   "metadata": {},
   "cell_type": "code",
   "source": [
    "countries = global_inflation.distinct(\"country_name\")\n",
    "countries"
   ],
   "id": "a59fd3e1a38ec1c1",
   "outputs": [],
   "execution_count": null
  },
  {
   "metadata": {},
   "cell_type": "markdown",
   "source": "#### Estrazione Paese con maggiore inflazione in base all'anno",
   "id": "251e7eb23f0b3e43"
  },
  {
   "metadata": {},
   "cell_type": "markdown",
   "source": "",
   "id": "87cf0b1b299a9246"
  },
  {
   "metadata": {},
   "cell_type": "code",
   "source": [
    "# Query per trovare il paese con la massima inflazione in un anno specifico\n",
    "anno = 1991\n",
    "max_inflation = utils.get_max_infl_year(global_inflation, anno)\n",
    "\n",
    "country_max_infl = global_inflation.find_one({\"_id\": max_inflation.next()['_id']})\n",
    "country_name = country_max_infl['country_name']\n",
    "\n",
    "print(f\"Il paese con la maggiore inflazione nel {anno} è: {country_name} con un valore di {country_max_infl[str(anno)]}%\")"
   ],
   "id": "6868457abebfa7a1",
   "outputs": [],
   "execution_count": null
  },
  {
   "metadata": {},
   "cell_type": "code",
   "source": [
    "del country_max_infl['_id']\n",
    "del country_max_infl['country_name']\n",
    "del country_max_infl['indicator_name']"
   ],
   "id": "1c3b218e054d938d",
   "outputs": [],
   "execution_count": null
  },
  {
   "metadata": {},
   "cell_type": "markdown",
   "source": "## Plot dell'inflazione annuale per il paese con la maggiore inflazione precedentemente calcolata",
   "id": "4162d37683ae41ed"
  },
  {
   "metadata": {},
   "cell_type": "code",
   "source": [
    "import matplotlib.pyplot as plt\n",
    "\n",
    "anni = list(country_max_infl.keys())\n",
    "inflazione = list(country_max_infl.values())\n",
    "plt.figure(figsize=(10, 6))\n",
    "plt.plot(anni, inflazione, marker='o', label='Inflazione annuale')\n",
    "plt.xlabel('Anno')\n",
    "plt.ylabel('Inflazione (%)')\n",
    "plt.title(f'Inflazione annuale di: {country_name}')\n",
    "plt.xticks(rotation=90)\n",
    "plt.show()"
   ],
   "id": "397b1c4cd9e2a5e",
   "outputs": [],
   "execution_count": null
  },
  {
   "metadata": {},
   "cell_type": "markdown",
   "source": "# Inflazione media per paese",
   "id": "6fc615eb2c70cf3"
  },
  {
   "metadata": {},
   "cell_type": "code",
   "source": [
    "#todo: Implementare in app\n",
    "\n",
    "country_name = \"Italy\"\n",
    "avg_ita_infl = utils.get_avg_infl_years(global_inflation, country_name)\n",
    "print(f\"L'inflazione media in {country_name} dal 1980 al 2024 è {avg_ita_infl.next()['avgInflation']:.2f}%\")"
   ],
   "id": "fc81ad4b2627371f",
   "outputs": [],
   "execution_count": null
  },
  {
   "metadata": {},
   "cell_type": "markdown",
   "source": "# Analisi dell'inflazione negli anni dato il paese ",
   "id": "df7b670c333746d7"
  },
  {
   "metadata": {},
   "cell_type": "code",
   "source": [
    "country = \"Italy\"\n",
    "inflation_values, years = utils.get_inflation_by_country(global_inflation, country)\n",
    "\n",
    "plt.figure(figsize=(10, 6))\n",
    "plt.plot(inflation_values, years, marker='o', label='Inflazione annuale')\n",
    "plt.xlabel('Anno')\n",
    "plt.ylabel('Inflazione (%)')\n",
    "plt.title(f'Inflazione annuale di: {country_name}')\n",
    "plt.xticks(rotation=90)\n",
    "plt.legend()\n",
    "plt.show()"
   ],
   "id": "8fa37c9fdd540548",
   "outputs": [],
   "execution_count": null
  },
  {
   "metadata": {},
   "cell_type": "markdown",
   "source": "",
   "id": "3fc52bbbd53e1a81"
  }
 ],
 "metadata": {
  "kernelspec": {
   "display_name": "Python 3",
   "language": "python",
   "name": "python3"
  },
  "language_info": {
   "codemirror_mode": {
    "name": "ipython",
    "version": 2
   },
   "file_extension": ".py",
   "mimetype": "text/x-python",
   "name": "python",
   "nbconvert_exporter": "python",
   "pygments_lexer": "ipython2",
   "version": "2.7.6"
  }
 },
 "nbformat": 4,
 "nbformat_minor": 5
}
