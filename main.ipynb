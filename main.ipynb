{
 "cells": [
  {
   "metadata": {},
   "cell_type": "markdown",
   "source": [
    "# Caricamento delle collezioni e collegamento al database\n",
    "Il Database è composto da 4 collezioni: food, global_dataset, global_inflation, consumer_price_index.\n",
    "- food: contiene i dati relativi all'inflazione del cibo per i paesi dell'est europa\n",
    "    -  Ogni paese presenta un documento per ogni mese dell'anno con i relativi dati\n",
    "- global_dataset: contiene i dati relativi all'inflazione per i paesi del mondo divisi per 5 categorie\n",
    "    - Ogni paese presenta un documento per ogni Series Name con i relativi dati (Un singolo documento presenta  l'inflazione per ogni anno con l'anno usato come key)\n",
    "- global_inflation: contiene i dati relativi all'inflazione per i paesi del mondo divisi per anno\n",
    "    - Ogni paese è rappresentato da un solo documento con i valori di inflazione riportati come in global_dataset  "
   ],
   "id": "ea7728dcb53c3af6"
  },
  {
   "metadata": {},
   "cell_type": "code",
   "source": [
    "import pymongo\n",
    "import utils \n",
    "import pandas as pd\n",
    "import matplotlib.pyplot as plt\n",
    "client = pymongo.MongoClient(\"mongodb://localhost:27017/\")\n",
    "db = client[\"ProgettoBD2\"]\n",
    "food = db[\"food\"]\n",
    "global_dataset = db[\"global_dataset\"]\n",
    "global_inflation = db[\"global_inflation\"]\n",
    "us_cpi = db[\"consumer_price_index\"]"
   ],
   "id": "c69a9efb5e36c372",
   "outputs": [],
   "execution_count": null
  },
  {
   "metadata": {},
   "cell_type": "markdown",
   "source": [
    "## Collection: Food\n",
    "- Query per estrarre i paesi presenti nella collezione \\\n",
    "I paesi presenti nella collezione sono principalmente paesi dell'est Europa"
   ],
   "id": "d5969dcc645c4e93"
  },
  {
   "metadata": {},
   "cell_type": "code",
   "source": [
    "countries = food.distinct(\"country\")\n",
    "countries"
   ],
   "id": "3974e34c0872b498",
   "outputs": [],
   "execution_count": null
  },
  {
   "metadata": {},
   "cell_type": "markdown",
   "source": [
    "## Collection: Global Dataset\n",
    "Lista dei paesi presenti nella collezione"
   ],
   "id": "68e04b47367747f2"
  },
  {
   "metadata": {},
   "cell_type": "code",
   "source": [
    "countries = global_dataset.distinct(\"Country\")\n",
    "countries"
   ],
   "id": "33b2d0dcbe374887",
   "outputs": [],
   "execution_count": null
  },
  {
   "metadata": {},
   "cell_type": "markdown",
   "source": [
    "L'inflazione è suddivisa in categorie.\n",
    "- Query per la stampa delle categorie presenti nella collezione"
   ],
   "id": "3c56b28f9fa8dc5d"
  },
  {
   "metadata": {},
   "cell_type": "code",
   "source": "global_dataset.distinct(\"Series Name\")",
   "id": "88fb989eb396c9b5",
   "outputs": [],
   "execution_count": null
  },
  {
   "metadata": {},
   "cell_type": "markdown",
   "source": [
    "# Estrazione dati su Unione Europea \n",
    "Si è deciso di analizzare i paesi dell'Unione Europea presenti nella collezione global_dataset\n",
    "\n",
    "- Estrazione dei paesi dell'Unione Europea presenti nella collezione"
   ],
   "id": "6376839bf3c803f3"
  },
  {
   "metadata": {},
   "cell_type": "code",
   "source": [
    "query = {\"Country Code\": {\"$in\": [\"AUT\", \"BEL\", \"BGR\", \"HRV\", \"CYP\", \"CZE\", \"DNK\", \"EST\", \"FIN\", \"FRA\", \"DEU\", \"GRC\", \"HUN\", \"IRL\", \"ITA\", \"LVA\", \"LTU\", \"LUX\", \"MLT\", \"NLD\", \"POL\", \"PRT\", \"ROU\", \"SVK\", \"SVN\", \"ESP\", \"SWE\"]}}\n",
    "\n",
    "europeanCountries = global_dataset.find(query)\n",
    "\n",
    "europeanCountriesList = global_dataset.distinct(\"Country\", query)\n",
    "for country in europeanCountriesList:\n",
    "    print(country)"
   ],
   "id": "a67e74482f66d154",
   "outputs": [],
   "execution_count": null
  },
  {
   "metadata": {},
   "cell_type": "markdown",
   "source": [
    "# Analizzata l'inflazione dell'intera Unione Europea negli anni\n",
    " "
   ],
   "id": "a521c859f0f2880b"
  },
  {
   "metadata": {},
   "cell_type": "markdown",
   "source": [
    "Query che effettua la media anno per anno del tasso di inflazione nei paesi dell'unione europea di tutte le categorie.\n",
    "In sostanza vengono eliminate le categorie aggregando i 5 valori per ogni anno in una media. "
   ],
   "id": "2b754bbb29053e6c"
  },
  {
   "metadata": {},
   "cell_type": "code",
   "outputs": [],
   "execution_count": null,
   "source": [
    "# Esecuzione dell'aggregazione\n",
    "#result = utils.get_avg_infl_list(global_dataset, europeanCountriesList)\n",
    "# Stampa dei risultati\n",
    "#for doc in result:\n",
    " #   print(doc)"
   ],
   "id": "e32b6db35534886a"
  },
  {
   "metadata": {},
   "cell_type": "code",
   "source": [
    "europeanCountriesList = global_dataset.distinct(\"Country\", query)\n",
    "result = utils.get_food_inflation_list_per_year(global_dataset, europeanCountriesList)\n",
    "output = {}\n",
    "\n",
    "  # Riempimento del dizionario con i risultati\n",
    "for doc in result: \n",
    "    doc.pop('_id')\n",
    "    output.update(doc)\n",
    "\n",
    "print(output)"
   ],
   "id": "4add4e95cff418d5",
   "outputs": [],
   "execution_count": null
  },
  {
   "metadata": {},
   "cell_type": "code",
   "source": [
    "import matplotlib.pyplot as plt\n",
    "\n",
    "# Estrazione degli anni e dei valori di inflazione dal dizionario\n",
    "anni = list(output.keys())\n",
    "inflazione = list(output.values())\n",
    "\n",
    "# Creazione del grafico\n",
    "plt.figure(figsize=(10, 6))\n",
    "plt.plot(anni, inflazione, marker='o', label='Inflazione annuale')\n",
    "plt.xlabel('Anno')\n",
    "plt.ylabel('Inflazione (%)')\n",
    "plt.title('Inflazione alimentare annuale nell\\'Unione Europea')\n",
    "plt.xticks(rotation=90)\n",
    "plt.legend()\n",
    "plt.show()"
   ],
   "id": "37e9c71ef54568b1",
   "outputs": [],
   "execution_count": null
  },
  {
   "metadata": {},
   "cell_type": "markdown",
   "source": "## Analisi dell'inflazione alimentare dei paesi del G7",
   "id": "ad7d3967138a18e3"
  },
  {
   "metadata": {},
   "cell_type": "code",
   "source": [
    "query = {\"Country Code\": {\"$in\": [\"FRA\", \"DEU\", \"ITA\", \"USA\", \"CAN\", \"JPN\", \"GBR\"]}}\n",
    "\n",
    "g7_countries = global_dataset.find(query)\n",
    "\n",
    "g7_countries_list = global_dataset.distinct(\"Country\", query)\n",
    "for country in g7_countries_list:\n",
    "    print(country)"
   ],
   "id": "4f777693c2e114d5",
   "outputs": [],
   "execution_count": null
  },
  {
   "metadata": {},
   "cell_type": "code",
   "source": [
    "result = utils.get_food_inflation_list_per_year(global_dataset, g7_countries_list)\n",
    "output = {}\n",
    "\n",
    "  # Riempimento del dizionario con i risultati\n",
    "for doc in result: \n",
    "    doc.pop('_id')\n",
    "    output.update(doc)\n",
    "\n",
    "print(output)"
   ],
   "id": "21afb84a2e67096d",
   "outputs": [],
   "execution_count": null
  },
  {
   "metadata": {},
   "cell_type": "code",
   "source": [
    "import matplotlib.pyplot as plt\n",
    "\n",
    "# Estrazione degli anni e dei valori di inflazione dal dizionario\n",
    "anni = list(output.keys())\n",
    "inflazione = list(output.values())\n",
    "\n",
    "# Creazione del grafico\n",
    "plt.figure(figsize=(10, 6))\n",
    "plt.plot(anni, inflazione, marker='o', label='Inflazione annuale')\n",
    "plt.xlabel('Anno')\n",
    "plt.ylabel('Inflazione (%)')\n",
    "plt.title('Inflazione alimentare annuale nei paesi del G7')\n",
    "plt.xticks(rotation=90)\n",
    "plt.legend()\n",
    "plt.show()"
   ],
   "id": "e0a6996aaa40e3b1",
   "outputs": [],
   "execution_count": null
  },
  {
   "metadata": {},
   "cell_type": "markdown",
   "source": [
    "## Integrazione con food: primi passi\n",
    "Nel Dataset Food non sono presenti molti paesi dell'Unione Europea, per questo motivo si è deciso di integrare i dati di food con quelli di global_dataset. \\\n",
    "Viene eseguita una query per estrarre i dati dell'inflazione dei paesi europei sul cibo da global_dataset sfruttando il campo Series Name per estrarre solo i valori inerenti il campo \"Food Consumer Price Inflation\". \\\n",
    " Questa query è stata effettuata utilizzando i Country Code dei paesi europei. \n"
   ],
   "id": "dade4413177e7d9b"
  },
  {
   "metadata": {},
   "cell_type": "code",
   "source": [
    "#todo: Implementare in app come sotto funzione dell'inflazione sul cibo totale\n",
    "\n",
    "europeanCountriesList = [\"AUT\", \"BEL\", \"BGR\", \"HRV\", \"CYP\", \"CZE\", \"DNK\", \"EST\", \"FIN\", \"FRA\", \"DEU\", \"GRC\", \"HUN\", \"IRL\", \"ITA\", \"LVA\", \"LTU\", \"LUX\", \"MLT\", \"NLD\", \"POL\", \"PRT\", \"ROU\", \"SVK\", \"SVN\", \"ESP\", \"SWE\"]\n",
    "\n",
    "result = utils.get_food_infl_countries(global_dataset, europeanCountriesList)\n",
    "\n",
    "for doc in result:\n",
    "    doc.pop('_id')\n",
    "    doc.pop('Indicator Type')\n",
    "    doc.pop('Note')\n",
    "    print(doc)\n"
   ],
   "id": "641228aae9f93e1b",
   "outputs": [],
   "execution_count": null
  },
  {
   "metadata": {},
   "cell_type": "markdown",
   "source": [
    "### Query MongoDB per l'integrazione dei dati atta a raggruppare i dati di food per anno\n",
    "Inizialmente i dati erano raggruppati per mese, è stata preso in considerazione il valore Inflation dove presente ed è stato sommato in modo da avere il valore annuale piuttosto che mensile. \\n\n",
    "\n"
   ],
   "id": "33d1ba0af8323c2c"
  },
  {
   "metadata": {},
   "cell_type": "markdown",
   "source": [
    "# Integrazione dei dati completa del data_set food con global Dataset\n",
    "- Vengono estratti i paesi distinti presenti in global_dataset e in food, viene eseguita la query per ottenere l'inflazione di ogni paese relativa al campo alimentare in global_dataset attraverso il campo Series Name. \\n\n",
    "- Viene in seguito definita una lista dei paesi presenti nel risultato della query e vengono ad essi aggiunti i paesi mancanti presenti nel dataset food con i relativi dati \n",
    "- Sono risultati alla fine solo due paesi mancanti: Somalia e South Sudan. I valori dell'inflazione sono stati calcolati nella cella precedente effettuando una somma dei valori mensili per ottenere quelli annuali.\n",
    "\n",
    "## Vediamo nel dettaglio la pipeline di funzioni:\n",
    "  - Viene eseguita una funzione per integrare i dati di food con global dataset.\n",
    "    Vengono formattati i dati di food, precedemente aventi un documento per ogni mese in\n",
    "    documenti divisi per anno e paese. Formattati 'Country', 'Year', 'infl'\n",
    "    Vengono poi identificati i paesi mancanti in global dataset che saranno integrati da food.\n",
    "    La differenza nella formattazione dei documenti può creare fastidio nei plot, il problema stato gestito come segue:\n",
    "    - I dati vengono formattati per l'operazione di plotting rimuovendo i campo non necessari e formattando i documenti in modo che contengano l'anno e il valore di inflazione in  ogni documento.\n",
    "     I documenti di global dataset erano formati da un campo 'Country' e un campo per\n",
    "     ogni anno con associato il valore di inflazione.\n",
    "     Nei dati di food il campo 'country' viene rinominato in 'Country'\n",
    "     per uniformità con gli altri documenti."
   ],
   "id": "d515ff65b8422e3e"
  },
  {
   "metadata": {},
   "cell_type": "code",
   "source": [
    "country = \"Italy\"\n",
    "    \n",
    "years, inflation_values = utils.plot_food_inflation_by_country(food, global_dataset, country)\n",
    "\n",
    "# Crea il grafico\n",
    "plt.figure(figsize=(10, 6))\n",
    "plt.plot(years, inflation_values, marker='o')\n",
    "plt.xlabel('Year')\n",
    "plt.ylabel('Inflation (%)')\n",
    "plt.title(f'Annual Inflation of {country}')\n",
    "plt.grid(True)\n",
    "plt.show()"
   ],
   "id": "ff87206eba861a63",
   "outputs": [],
   "execution_count": null
  },
  {
   "metadata": {},
   "cell_type": "markdown",
   "source": [
    "## Collection: Global Inflation\n",
    "Lista dei paesi presenti nella collezione"
   ],
   "id": "b6901ca16ed0b9a9"
  },
  {
   "metadata": {},
   "cell_type": "code",
   "source": [
    "countries = global_inflation.distinct(\"country_name\")\n",
    "countries"
   ],
   "id": "a59fd3e1a38ec1c1",
   "outputs": [],
   "execution_count": null
  },
  {
   "metadata": {},
   "cell_type": "markdown",
   "source": "#### Estrazione Paese con maggiore inflazione in base all'anno",
   "id": "251e7eb23f0b3e43"
  },
  {
   "metadata": {},
   "cell_type": "markdown",
   "source": "",
   "id": "87cf0b1b299a9246"
  },
  {
   "metadata": {},
   "cell_type": "code",
   "source": [
    "# Query per trovare il paese con la massima inflazione in un anno specifico\n",
    "anno = 1991\n",
    "max_inflation = utils.get_max_infl_year(global_inflation, anno)\n",
    "\n",
    "country_max_infl = global_inflation.find_one({\"_id\": max_inflation.next()['_id']})\n",
    "country_name = country_max_infl['country_name']\n",
    "\n",
    "print(f\"Il paese con la maggiore inflazione nel {anno} è: {country_name} con un valore di {country_max_infl[str(anno)]}%\")"
   ],
   "id": "6868457abebfa7a1",
   "outputs": [],
   "execution_count": null
  },
  {
   "metadata": {},
   "cell_type": "code",
   "source": [
    "del country_max_infl['_id']\n",
    "del country_max_infl['country_name']\n",
    "del country_max_infl['indicator_name']"
   ],
   "id": "1c3b218e054d938d",
   "outputs": [],
   "execution_count": null
  },
  {
   "metadata": {},
   "cell_type": "markdown",
   "source": "## Plot dell'inflazione annuale per il paese con la maggiore inflazione precedentemente calcolata",
   "id": "4162d37683ae41ed"
  },
  {
   "metadata": {},
   "cell_type": "code",
   "source": [
    "import matplotlib.pyplot as plt\n",
    "\n",
    "anni = list(country_max_infl.keys())\n",
    "inflazione = list(country_max_infl.values())\n",
    "plt.figure(figsize=(10, 6))\n",
    "plt.plot(anni, inflazione, marker='o', label='Inflazione annuale')\n",
    "plt.xlabel('Anno')\n",
    "plt.ylabel('Inflazione (%)')\n",
    "plt.title(f'Inflazione annuale di: {country_name}')\n",
    "plt.xticks(rotation=90)\n",
    "plt.show()"
   ],
   "id": "397b1c4cd9e2a5e",
   "outputs": [],
   "execution_count": null
  },
  {
   "metadata": {},
   "cell_type": "markdown",
   "source": "# Inflazione media per paese",
   "id": "6fc615eb2c70cf3"
  },
  {
   "metadata": {},
   "cell_type": "code",
   "source": [
    "\n",
    "country_name = \"Italy\"\n",
    "avg_ita_infl = utils.get_avg_infl_years(global_inflation, country_name)\n",
    "print(f\"L'inflazione media in {country_name} dal 1980 al 2024 è {avg_ita_infl.next()['avgInflation']:.2f}%\")"
   ],
   "id": "fc81ad4b2627371f",
   "outputs": [],
   "execution_count": null
  },
  {
   "metadata": {},
   "cell_type": "markdown",
   "source": "# Analisi dell'inflazione negli anni dato il paese ",
   "id": "df7b670c333746d7"
  },
  {
   "metadata": {},
   "cell_type": "code",
   "source": [
    "country = \"Italy\"\n",
    "inflation_values, years = utils.get_inflation_by_country(global_inflation, country)\n",
    "\n",
    "plt.figure(figsize=(10, 6))\n",
    "plt.plot(inflation_values, years, marker='o', label='Inflazione annuale')\n",
    "plt.xlabel('Anno')\n",
    "plt.ylabel('Inflazione (%)')\n",
    "plt.title(f'Inflazione annuale di: {country_name}')\n",
    "plt.xticks(rotation=90)\n",
    "plt.legend()\n",
    "plt.show()"
   ],
   "id": "8fa37c9fdd540548",
   "outputs": [],
   "execution_count": null
  },
  {
   "metadata": {},
   "cell_type": "markdown",
   "source": "",
   "id": "3fc52bbbd53e1a81"
  },
  {
   "metadata": {},
   "cell_type": "markdown",
   "source": [
    "# Operazioni CRUD\n",
    "## Inserimento\n",
    "Sfruttando le caratteristiche NoSQL generalizziamo l'inserimento con un documento di questa forma: country_name, inflation_values, year. \\n"
   ],
   "id": "c38acd730b7e9179"
  },
  {
   "metadata": {},
   "cell_type": "code",
   "source": [
    "utils.insert_into_collection(global_inflation, \"Sbiriguda\",69.69, 2023)\n",
    "#utils.insert_into_collection(food, \"Sbiriguda\",69.69, 2023)\n",
    "#utils.insert_into_collection(global_dataset, \"Sbiriguda\",69.69, 2023)"
   ],
   "id": "7db5a21f42877403",
   "outputs": [],
   "execution_count": null
  },
  {
   "metadata": {},
   "cell_type": "markdown",
   "source": "## Cancellazione",
   "id": "a6b2079e8bcf33e3"
  },
  {
   "metadata": {},
   "cell_type": "markdown",
   "source": "La cancellazione per correttezza e integrità dei dati è stata gestita sulla web app tramite id del documento MongoDB da eliminare \\n",
   "id": "9c12f869dfae6365"
  },
  {
   "metadata": {},
   "cell_type": "code",
   "source": [
    "id = utils.insert_into_collection(global_dataset, \"Sbiriguda\",69.69, 2023)\n",
    "utils.delete_document(global_dataset, id)"
   ],
   "id": "13783a409bfaf25e",
   "outputs": [],
   "execution_count": null
  },
  {
   "metadata": {},
   "cell_type": "markdown",
   "source": "# Update",
   "id": "aac7f8f4fe4686a"
  },
  {
   "metadata": {},
   "cell_type": "code",
   "source": [
    "document = {\"infl\":69, \"Country\": \"Italy\"}\n",
    "id = \"666ae4919f6ae774f47d1617\"\n",
    "utils.update_document(us_cpi,id, document)"
   ],
   "id": "b4083fc396ce6e8f",
   "outputs": [],
   "execution_count": null
  },
  {
   "metadata": {},
   "cell_type": "code",
   "source": "",
   "id": "84bb6e1c002ba675",
   "outputs": [],
   "execution_count": null
  }
 ],
 "metadata": {
  "kernelspec": {
   "display_name": "Python 3",
   "language": "python",
   "name": "python3"
  },
  "language_info": {
   "codemirror_mode": {
    "name": "ipython",
    "version": 2
   },
   "file_extension": ".py",
   "mimetype": "text/x-python",
   "name": "python",
   "nbconvert_exporter": "python",
   "pygments_lexer": "ipython2",
   "version": "2.7.6"
  }
 },
 "nbformat": 4,
 "nbformat_minor": 5
}
