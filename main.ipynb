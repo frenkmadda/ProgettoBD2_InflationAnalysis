{
 "cells": [
  {
   "metadata": {},
   "cell_type": "markdown",
   "source": [
    "# Caricamento delle collezioni e collegamento al database\n",
    "Il Database è composto da 4 collezioni: food, global_dataset, global_inflation, consumer_price_index.\n",
    "- food: contiene i dati relativi all'inflazione del cibo per i paesi dell'est europa\n",
    "    -  Ogni paese presenta un documento per ogni mese dell'anno con i relativi dati\n",
    "- global_dataset: contiene i dati relativi all'inflazione per i paesi del mondo divisi per 5 categorie\n",
    "    - Ogni paese presenta un documento per ogni Series Name con i relativi dati (Un singolo documento presenta  l'inflazione per ogni anno con l'anno usato come key)\n",
    "- global_inflation: contiene i dati relativi all'inflazione per i paesi del mondo divisi per anno\n",
    "    - Ogni paese è rappresentato da un solo documento con i valori di inflazione riportati come in global_dataset  "
   ],
   "id": "ea7728dcb53c3af6"
  },
  {
   "metadata": {
    "ExecuteTime": {
     "end_time": "2024-06-13T09:59:22.105330Z",
     "start_time": "2024-06-13T09:59:20.082115Z"
    }
   },
   "cell_type": "code",
   "source": [
    "import pymongo\n",
    "import utils \n",
    "import pandas as pd\n",
    "import matplotlib.pyplot as plt\n",
    "client = pymongo.MongoClient(\"mongodb://localhost:27017/\")\n",
    "db = client[\"ProgettoBD2\"]\n",
    "food = db[\"food\"]\n",
    "global_dataset = db[\"global_dataset\"]\n",
    "global_inflation = db[\"global_inflation\"]\n",
    "us_cpi = db[\"consumer_price_index\"]"
   ],
   "id": "c69a9efb5e36c372",
   "outputs": [],
   "execution_count": 1
  },
  {
   "metadata": {},
   "cell_type": "markdown",
   "source": [
    "## Collection: Food\n",
    "- Query per estrarre i paesi presenti nella collezione \\\n",
    "I paesi presenti nella collezione sono principalmente paesi dell'est Europa"
   ],
   "id": "d5969dcc645c4e93"
  },
  {
   "metadata": {},
   "cell_type": "code",
   "source": [
    "countries = food.distinct(\"country\")\n",
    "countries"
   ],
   "id": "3974e34c0872b498",
   "outputs": [],
   "execution_count": null
  },
  {
   "metadata": {},
   "cell_type": "markdown",
   "source": [
    "## Collection: Global Dataset\n",
    "Lista dei paesi presenti nella collezione"
   ],
   "id": "68e04b47367747f2"
  },
  {
   "metadata": {},
   "cell_type": "code",
   "source": [
    "countries = global_dataset.distinct(\"Country\")\n",
    "countries"
   ],
   "id": "33b2d0dcbe374887",
   "outputs": [],
   "execution_count": null
  },
  {
   "metadata": {},
   "cell_type": "markdown",
   "source": [
    "L'inflazione è suddivisa in categorie.\n",
    "- Query per la stampa delle categorie presenti nella collezione"
   ],
   "id": "3c56b28f9fa8dc5d"
  },
  {
   "metadata": {},
   "cell_type": "code",
   "source": "global_dataset.distinct(\"Series Name\")",
   "id": "88fb989eb396c9b5",
   "outputs": [],
   "execution_count": null
  },
  {
   "metadata": {},
   "cell_type": "markdown",
   "source": [
    "# Estrazione dati su Unione Europea \n",
    "Si è deciso di analizzare i paesi dell'Unione Europea presenti nella collezione global_dataset\n",
    "\n",
    "- Estrazione dei paesi dell'Unione Europea presenti nella collezione"
   ],
   "id": "6376839bf3c803f3"
  },
  {
   "metadata": {},
   "cell_type": "code",
   "source": [
    "query = {\"Country Code\": {\"$in\": [\"AUT\", \"BEL\", \"BGR\", \"HRV\", \"CYP\", \"CZE\", \"DNK\", \"EST\", \"FIN\", \"FRA\", \"DEU\", \"GRC\", \"HUN\", \"IRL\", \"ITA\", \"LVA\", \"LTU\", \"LUX\", \"MLT\", \"NLD\", \"POL\", \"PRT\", \"ROU\", \"SVK\", \"SVN\", \"ESP\", \"SWE\"]}}\n",
    "\n",
    "europeanCountries = global_dataset.find(query)\n",
    "\n",
    "europeanCountriesList = global_dataset.distinct(\"Country\", query)\n",
    "for country in europeanCountriesList:\n",
    "    print(country)"
   ],
   "id": "a67e74482f66d154",
   "outputs": [],
   "execution_count": null
  },
  {
   "metadata": {},
   "cell_type": "markdown",
   "source": [
    "Query che effettua la media anno per anno del tasso di inflazione nei paesi dell'unione europea di tutte le categorie.\n",
    "In sostanza vengono eliminate le categorie aggregando i 5 valori per ogni anno in una media. "
   ],
   "id": "2b754bbb29053e6c"
  },
  {
   "metadata": {},
   "cell_type": "code",
   "source": [
    "# Esecuzione dell'aggregazione\n",
    "result = utils.get_avg_infl_eur(global_dataset, europeanCountriesList)\n",
    "# Stampa dei risultati\n",
    "for doc in result:\n",
    "    print(doc)"
   ],
   "id": "e32b6db35534886a",
   "outputs": [],
   "execution_count": null
  },
  {
   "metadata": {},
   "cell_type": "markdown",
   "source": [
    "Analizzata l'inflazione dell'intera Unione Europea negli anni\n",
    " "
   ],
   "id": "a521c859f0f2880b"
  },
  {
   "metadata": {},
   "cell_type": "code",
   "source": [
    "europeanCountriesList = global_dataset.distinct(\"Country\", query)\n",
    "result = utils.get_food_inflation_eur_per_year(global_dataset, europeanCountriesList)\n",
    "output = {}\n",
    "\n",
    "  # Riempimento del dizionario con i risultati\n",
    "for doc in result: \n",
    "    doc.pop('_id')\n",
    "    output.update(doc)\n",
    "\n",
    "print(output)"
   ],
   "id": "4add4e95cff418d5",
   "outputs": [],
   "execution_count": null
  },
  {
   "metadata": {},
   "cell_type": "code",
   "source": [
    "import matplotlib.pyplot as plt\n",
    "\n",
    "# Estrazione degli anni e dei valori di inflazione dal dizionario\n",
    "anni = list(output.keys())\n",
    "inflazione = list(output.values())\n",
    "\n",
    "# Creazione del grafico\n",
    "plt.figure(figsize=(10, 6))\n",
    "plt.plot(anni, inflazione, marker='o', label='Inflazione annuale')\n",
    "plt.xlabel('Anno')\n",
    "plt.ylabel('Inflazione (%)')\n",
    "plt.title('Inflazione annuale nell\\'Unione Europea')\n",
    "plt.xticks(rotation=90)\n",
    "plt.legend()\n",
    "plt.show()"
   ],
   "id": "37e9c71ef54568b1",
   "outputs": [],
   "execution_count": null
  },
  {
   "metadata": {},
   "cell_type": "markdown",
   "source": [
    "## Integrazione con food: primi passi\n",
    "Nel Dataset Food non sono presenti molti paesi dell'Unione Europea, per questo motivo si è deciso di integrare i dati di food con quelli di global_dataset. \\\n",
    "Viene eseguita una query per estrarre i dati dell'inflazione dei paesi europei sul cibo da global_dataset sfruttando il campo Series Name per estrarre solo i valori inerenti il campo \"Food Consumer Price Inflation\". \\\n",
    " Questa query è stata effettuata utilizzando i Country Code dei paesi europei. \n"
   ],
   "id": "dade4413177e7d9b"
  },
  {
   "metadata": {
    "ExecuteTime": {
     "end_time": "2024-06-13T10:26:35.866322Z",
     "start_time": "2024-06-13T10:26:35.852169Z"
    }
   },
   "cell_type": "code",
   "source": [
    "#todo: Implementare in app come sotto funzione dell'inflazione sul cibo totale\n",
    "\n",
    "europeanCountriesList = [\"AUT\", \"BEL\", \"BGR\", \"HRV\", \"CYP\", \"CZE\", \"DNK\", \"EST\", \"FIN\", \"FRA\", \"DEU\", \"GRC\", \"HUN\", \"IRL\", \"ITA\", \"LVA\", \"LTU\", \"LUX\", \"MLT\", \"NLD\", \"POL\", \"PRT\", \"ROU\", \"SVK\", \"SVN\", \"ESP\", \"SWE\"]\n",
    "\n",
    "result = utils.get_eu_food_infl_countries(global_dataset, europeanCountriesList)\n",
    "\n",
    "for doc in result:\n",
    "    doc.pop('_id')\n",
    "    doc.pop('Indicator Type')\n",
    "    doc.pop('Note')\n",
    "    print(doc)\n"
   ],
   "id": "641228aae9f93e1b",
   "outputs": [
    {
     "name": "stdout",
     "output_type": "stream",
     "text": [
      "{'1970': 4.42, '1971': 3.21, '1972': 5.32, '1973': 7.19, '1974': 8.14, '1975': 6.05, '1976': 5.31, '1977': 5.59, '1978': 2.93, '1979': 2.48, '1980': 4.5, '1981': 5.89, '1982': 4.23, '1983': 2.13, '1984': 5.44, '1985': 2.0, '1986': 1.99, '1987': 0.24, '1988': 0.12, '1989': 0.78, '1990': 2.82, '1991': 4.08, '1992': 3.71, '1993': 2.27, '1994': 1.38, '1995': -1.72, '1996': 0.13, '1997': 1.53, '1998': 1.93, '1999': -0.63, '2000': 0.65, '2001': 3.64, '2002': 1.34, '2003': 1.79, '2004': 1.92, '2005': 1.24, '2006': 1.88, '2007': 4.21, '2008': 6.29, '2009': 0.2, '2010': 0.48, '2011': 4.24, '2012': 3.19, '2013': 3.47, '2014': 1.94, '2015': 0.83, '2016': 0.73, '2017': 2.37, '2018': 1.52, '2019': 1.02, '2020': 2.33, '2021': 0.78, '2022': 10.23, 'Country Code': 'AUT', 'IMF Country Code': 122, 'Country': 'Austria', 'Series Name': 'Food Consumer Price Inflation'}\n",
      "{'1970': 3.5, '1971': 1.9, '1972': 6.6, '1973': 8.0, '1974': 9.4, '1975': 11.2, '1976': 6.1, '1977': 6.1, '1978': 1.5, '1979': 0.5, '1980': 3.6, '1981': 6.0, '1982': 9.6, '1983': 8.4, '1984': 7.9, '1985': 3.4, '1986': 1.9, '1987': -0.4, '1988': 0.0, '1989': 3.1, '1990': 3.7, '1991': 3.7, '1992': -0.15, '1993': -0.62, '1994': 2.02, '1995': 1.28, '1996': 1.36, '1997': 2.26, '1998': 1.94, '1999': 0.0, '2000': 0.86, '2001': 4.63, '2002': 2.36, '2003': 2.05, '2004': 1.26, '2005': 1.77, '2006': 2.56, '2007': 3.91, '2008': 6.08, '2009': 0.85, '2010': 1.66, '2011': 2.72, '2012': 3.1, '2013': 3.42, '2014': -0.38, '2015': 1.2, '2016': 2.24, '2017': 1.26, '2018': 2.16, '2019': 4.46, '2020': 2.88, '2021': -0.39, '2022': 8.21, 'Country Code': 'BEL', 'IMF Country Code': 124, 'Country': 'Belgium', 'Series Name': 'Food Consumer Price Inflation'}\n",
      "{'1970': -0.3, '1971': 0.2, '1972': 0.0, '1973': 0.9, '1974': 1.1, '1975': 0.6, '1976': 0.5, '1977': 0.2, '1978': 1.2, '1979': 6.2, '1980': 24.7, '1981': 0.2, '1982': 0.7, '1983': 3.0, '1984': 1.5, '1985': 2.2, '1986': 4.3, '1987': 0.0, '1988': 1.4, '1989': 1.9, '1990': 1.9, '1991': 374.6, '1992': 74.8, '1993': 56.2, '1994': 91.6, '1995': 59.8, '1996': 122.69, '1997': 1097.01, '1998': 11.14, '1999': -8.04, '2000': 10.25, '2001': 6.51, '2002': -0.03, '2003': -0.97, '2004': 6.7, '2005': 4.03, '2006': 5.43, '2007': 13.45, '2008': 16.71, '2009': -0.63, '2010': -0.38, '2011': 6.93, '2012': 3.0, '2013': 2.79, '2014': -0.98, '2015': 0.33, '2016': -0.23, '2017': 3.99, '2018': 2.2, '2019': 5.19, '2020': 5.37, '2021': 2.77, '2022': 21.28, 'Country Code': 'BGR', 'IMF Country Code': 918, 'Country': 'Bulgaria', 'Series Name': 'Food Consumer Price Inflation'}\n",
      "{'1970': 1.3, '1971': 4.9, '1972': 6.7, '1973': 8.5, '1974': 20.1, '1975': 9.2, '1976': 2.6, '1978': 5.7, '1979': 6.7, '1980': 14.6, '1981': 11.5, '1982': 8.1, '1983': 4.3, '1984': 8.4, '1985': 4.7, '1986': 2.9, '1987': 2.9, '1988': 4.1, '1989': 4.6, '1990': 4.7, '1991': 6.8, '1992': 7.8, '1993': 2.0, '1994': 1.3, '1995': 1.3, '1996': 3.1, '1997': 5.2, '1998': 4.1, '1999': 2.1, '2000': 5.5, '2001': 4.1, '2002': 4.6, '2003': 5.1, '2004': 4.0, '2005': 1.6, '2006': 4.8, '2007': 5.56, '2008': 7.59, '2009': 3.69, '2010': 0.24, '2011': 4.08, '2012': 0.82, '2013': 0.21, '2014': -1.46, '2015': -0.31, '2016': -0.26, '2017': -0.29, '2018': 0.73, '2019': 0.45, '2020': 1.22, '2021': -0.38, '2022': 7.77, 'Country Code': 'CYP', 'IMF Country Code': 423, 'Country': 'Cyprus', 'Series Name': 'Food Consumer Price Inflation'}\n",
      "{'1970': 0.2, '1971': -0.4, '1972': -0.2, '1973': 0.1, '1974': 0.2, '1975': -0.1, '1976': 1.2, '1977': 1.4, '1978': 1.9, '1979': 1.4, '1980': 1.4, '1981': 1.4, '1982': 9.4, '1983': 0.6, '1984': 0.6, '1985': 2.6, '1986': 0.4, '1987': 0.2, '1988': -0.3, '1989': 0.1, '1990': 11.1, '1991': 45.2, '1992': 9.56, '1993': 16.12, '1994': 10.1, '1995': 11.13, '1996': 7.97, '1997': 4.39, '1998': 4.42, '1999': -5.53, '2000': 0.99, '2001': 5.07, '2002': -1.94, '2003': -2.18, '2004': 3.41, '2005': -0.25, '2006': 0.86, '2007': 4.74, '2008': 8.11, '2009': -3.97, '2010': 1.47, '2011': 4.63, '2012': 6.91, '2013': 4.91, '2014': 2.02, '2015': -1.1, '2016': -0.93, '2017': 5.18, '2018': 1.31, '2019': 2.82, '2020': 4.54, '2021': 0.8, '2022': 15.89, 'Country Code': 'CZE', 'IMF Country Code': 935, 'Country': 'Czech Republic', 'Series Name': 'Food Consumer Price Inflation'}\n",
      "{'1970': 2.4, '1971': 3.84, '1972': 5.71, '1973': 7.52, '1974': 4.76, '1975': 5.26, '1976': 4.59, '1977': 4.92, '1978': 1.42, '1979': 1.71, '1980': 4.03, '1981': 4.81, '1982': 6.18, '1983': 2.68, '1984': 1.45, '1985': 0.86, '1986': 0.62, '1987': -0.53, '1988': 0.17, '1989': 2.27, '1990': 3.0, '1991': 2.72, '1992': 2.08, '1993': 0.5, '1994': 1.63, '1995': 1.0, '1996': 0.6, '1997': 1.38, '1998': 1.06, '1999': -1.27, '2000': -0.71, '2001': 4.48, '2002': 0.83, '2003': -0.16, '2004': -0.31, '2005': 0.03, '2006': 2.03, '2007': 3.81, '2008': 6.07, '2009': -1.3, '2010': 1.25, '2011': 2.77, '2012': 3.38, '2013': 3.89, '2014': 1.01, '2015': 0.6, '2016': 0.81, '2017': 2.76, '2018': 2.28, '2019': 1.2, '2020': 2.26, '2021': 3.16, '2022': 12.09, 'Country Code': 'DEU', 'IMF Country Code': 134, 'Country': 'Germany', 'Series Name': 'Food Consumer Price Inflation'}\n",
      "{'1970': 8.5, '1971': 6.44, '1972': 9.13, '1973': 13.4, '1974': 11.77, '1975': 11.16, '1976': 10.81, '1977': 13.35, '1978': 8.94, '1979': 5.41, '1980': 10.04, '1981': 11.86, '1982': 10.16, '1983': 5.32, '1984': 8.82, '1985': 4.17, '1986': 2.03, '1987': 0.88, '1988': 3.62, '1989': 4.18, '1990': 0.25, '1991': 0.66, '1992': 1.73, '1993': -0.3, '1994': 2.93, '1995': 3.06, '1996': 1.66, '1997': 3.49, '1998': 2.07, '1999': 0.67, '2000': 2.54, '2001': 3.86, '2002': 2.18, '2003': 1.42, '2004': -1.02, '2005': 0.65, '2006': 2.72, '2007': 4.46, '2008': 7.57, '2009': -0.09, '2010': 0.37, '2011': 3.96, '2012': 4.29, '2013': 0.43, '2014': -0.87, '2015': 1.04, '2016': 0.1, '2017': 2.81, '2018': 0.04, '2019': 1.39, '2020': 0.64, '2021': 0.58, '2022': 11.16, 'Country Code': 'DNK', 'IMF Country Code': 128, 'Country': 'Denmark', 'Series Name': 'Food Consumer Price Inflation'}\n",
      "{'1970': 3.7, '1971': 7.75, '1972': 9.23, '1973': 12.75, '1974': 14.26, '1975': 17.03, '1976': 18.54, '1977': 23.63, '1978': 19.15, '1979': 10.15, '1980': 9.09, '1981': 13.61, '1982': 15.01, '1983': 10.69, '1984': 12.57, '1985': 9.53, '1986': 10.62, '1987': 5.04, '1988': 3.7, '1989': 7.67, '1990': 6.5, '1991': 3.5, '1992': 3.68, '1993': 4.14, '1994': 5.41, '1995': 4.85, '1996': 3.41, '1997': -0.7, '1998': 1.14, '1999': 1.29, '2000': 2.04, '2001': 5.88, '2002': 4.7, '2003': 4.1, '2004': 3.87, '2005': 3.16, '2006': 4.11, '2007': 3.69, '2008': 5.88, '2009': -1.05, '2010': -0.84, '2011': 2.05, '2012': 2.33, '2013': 2.79, '2014': -0.35, '2015': 1.17, '2016': 1.4, '2017': 1.23, '2018': 1.65, '2019': 1.03, '2020': 2.36, '2021': 1.85, '2022': 11.24, 'Country Code': 'ESP', 'IMF Country Code': 184, 'Country': 'Spain', 'Series Name': 'Food Consumer Price Inflation'}\n",
      "{'1991': 233.0, '1992': 937.2, '1993': 73.9, '1994': 33.3, '1995': 15.9, '1996': 18.2, '1997': 5.5, '1998': 4.9, '1999': -3.79, '2000': 2.4, '2001': 8.27, '2002': 3.04, '2003': -1.73, '2004': 4.19, '2005': 3.53, '2006': 5.06, '2007': 9.33, '2008': 14.18, '2009': -4.01, '2010': 3.03, '2011': 9.66, '2012': 3.85, '2013': 4.14, '2014': 0.02, '2015': -0.54, '2016': 0.04, '2017': 5.71, '2018': 3.06, '2019': 2.99, '2020': 2.14, '2021': 1.84, '2022': 18.92, 'Country Code': 'EST', 'IMF Country Code': 939, 'Country': 'Estonia', 'Series Name': 'Food Consumer Price Inflation'}\n",
      "{'1970': 1.5, '1971': 4.3, '1972': 9.43, '1973': 11.93, '1974': 15.95, '1975': 20.67, '1976': 16.32, '1977': 17.51, '1978': 4.46, '1979': 4.19, '1980': 12.86, '1981': 12.86, '1982': 12.34, '1983': 6.79, '1984': 7.66, '1985': 7.17, '1986': 3.88, '1987': 2.34, '1988': 1.72, '1989': 3.6, '1990': 3.68, '1991': 2.86, '1992': -0.08, '1993': -0.64, '1994': 0.19, '1995': -7.91, '1996': -1.79, '1997': 1.39, '1998': 1.73, '1999': -0.39, '2000': 1.06, '2001': 4.42, '2002': 2.88, '2003': 0.64, '2004': 0.74, '2005': 0.31, '2006': 1.39, '2007': 2.08, '2008': 8.57, '2009': 2.0, '2010': -3.58, '2011': 6.28, '2012': 5.16, '2013': 5.36, '2014': 0.14, '2015': -1.87, '2016': -1.14, '2017': -0.91, '2018': 1.91, '2019': 1.21, '2020': 1.15, '2021': 0.57, '2022': 9.99, 'Country Code': 'FIN', 'IMF Country Code': 172, 'Country': 'Finland', 'Series Name': 'Food Consumer Price Inflation'}\n",
      "{'1970': 6.3, '1971': 6.03, '1972': 7.71, '1973': 9.85, '1974': 12.51, '1975': 11.48, '1976': 11.1, '1977': 12.76, '1978': 9.05, '1979': 9.22, '1980': 10.41, '1981': 14.08, '1982': 13.25, '1983': 9.48, '1984': 8.31, '1985': 5.39, '1986': 3.38, '1987': 3.15, '1988': 2.36, '1989': 4.3, '1990': 3.14, '1991': 2.79, '1992': 0.37, '1993': -0.15, '1994': 0.8, '1995': 1.21, '1996': 1.12, '1997': 1.79, '1998': 1.7, '1999': 0.43, '2000': 2.2, '2001': 5.52, '2002': 2.73, '2003': 2.28, '2004': 0.49, '2005': 0.16, '2006': 1.67, '2007': 1.45, '2008': 5.06, '2009': 0.08, '2010': 0.78, '2011': 1.99, '2012': 2.89, '2013': 1.15, '2014': -0.84, '2015': 0.4, '2016': 0.55, '2017': 1.09, '2018': 1.97, '2019': 2.45, '2020': 2.03, '2021': 0.62, '2022': 6.76, 'Country Code': 'FRA', 'IMF Country Code': 132, 'Country': 'France', 'Series Name': 'Food Consumer Price Inflation'}\n",
      "{'1970': 7.67, '1971': 5.03, '1972': 3.73, '1973': 16.17, '1974': 33.48, '1975': 11.75, '1976': 13.78, '1977': 14.06, '1978': 14.27, '1979': 18.73, '1980': 27.6, '1981': 30.07, '1982': 21.12, '1983': 18.04, '1984': 18.24, '1985': 19.46, '1986': 20.31, '1987': 12.62, '1988': 11.13, '1989': 18.35, '1990': 20.02, '1991': 17.76, '1992': 11.79, '1993': 9.9, '1994': 13.25, '1995': 8.52, '1996': 6.97, '1997': 4.18, '1998': 4.05, '1999': 2.71, '2000': 1.89, '2001': 5.13, '2002': 5.33, '2003': 4.98, '2004': 0.51, '2005': 0.61, '2006': 3.74, '2007': 3.24, '2008': 5.36, '2009': 1.91, '2010': 0.06, '2011': 3.11, '2012': 1.51, '2013': 0.0, '2014': -1.68, '2015': 1.8, '2016': -0.22, '2017': 0.32, '2018': 0.4, '2019': -4.7, '2020': 1.36, '2021': 1.36, '2022': 11.41, 'Country Code': 'GRC', 'IMF Country Code': 174, 'Country': 'Greece', 'Series Name': 'Food Consumer Price Inflation'}\n",
      "{'1981': 41.6, '1982': 39.6, '1983': 45.1, '1984': 50.0, '1985': 71.4, '1986': 91.7, '1987': 131.9, '1988': 187.5, '1989': 1147.8, '1990': 553.3, '1991': 122.9, '1992': 720.6, '1993': 1357.7, '1994': 101.1, '1995': 0.8, '1996': 3.2, '1997': 4.4, '1998': 6.4, '1999': 0.78, '2000': 0.32, '2001': 2.53, '2002': 0.2, '2003': 1.65, '2004': 1.42, '2005': 4.57, '2006': 2.52, '2007': 3.33, '2008': 9.99, '2009': 1.62, '2010': -1.53, '2011': 3.54, '2012': 3.71, '2013': 3.72, '2014': -2.19, '2015': 0.39, '2016': -0.47, '2017': 2.91, '2018': 0.99, '2019': -0.12, '2020': 1.93, '2021': 1.62, '2022': 15.03, 'Country Code': 'HRV', 'IMF Country Code': 960, 'Country': 'Croatia', 'Series Name': 'Food Consumer Price Inflation'}\n",
      "{'1970': 1.0, '1971': 2.0, '1972': 1.0, '1973': 4.8, '1974': 0.5, '1975': 1.1, '1976': 10.2, '1977': 5.5, '1978': 3.6, '1979': 10.3, '1980': 13.4, '1981': 2.97, '1982': 5.14, '1983': 5.02, '1984': 12.87, '1985': 6.42, '1986': 1.85, '1987': 9.54, '1988': 16.12, '1989': 17.71, '1990': 34.9, '1991': 20.78, '1992': 20.55, '1993': 29.31, '1994': 23.55, '1995': 30.81, '1996': 17.27, '1997': 17.48, '1998': 14.18, '1999': 2.91, '2000': 9.22, '2001': 13.71, '2002': 5.34, '2003': 2.69, '2004': 6.47, '2005': 2.45, '2006': 7.72, '2007': 11.46, '2008': 10.1, '2009': 4.37, '2010': 3.12, '2011': 6.63, '2012': 5.9, '2013': 2.75, '2014': -0.36, '2015': 0.86, '2016': 0.65, '2017': 2.74, '2018': 4.15, '2019': 5.11, '2020': 7.25, '2021': 3.45, '2022': 25.72, 'Country Code': 'HUN', 'IMF Country Code': 944, 'Country': 'Hungary', 'Series Name': 'Food Consumer Price Inflation'}\n",
      "{'1970': 7.6, '1971': 7.4, '1972': 11.8, '1973': 16.5, '1974': 14.7, '1975': 21.5, '1976': 18.95, '1977': 16.1, '1978': 9.61, '1979': 14.71, '1980': 9.57, '1981': 14.19, '1982': 12.43, '1983': 7.27, '1984': 9.91, '1985': 3.25, '1986': 4.19, '1987': 2.64, '1988': 2.58, '1989': 4.81, '1990': 1.38, '1991': 0.73, '1992': 1.12, '1993': -0.33, '1994': 3.34, '1995': 2.76, '1996': 1.7, '1997': 1.52, '1998': 4.09, '1999': 3.03, '2000': 3.1, '2001': 6.54, '2002': 3.47, '2003': 1.47, '2004': -0.27, '2005': -0.7, '2006': 1.39, '2007': 2.8, '2008': 6.54, '2009': -3.47, '2010': -4.56, '2011': 1.15, '2012': 0.57, '2013': 1.06, '2014': -2.24, '2015': -2.14, '2016': -1.33, '2017': -2.07, '2018': -2.03, '2019': -0.67, '2020': -1.41, '2021': -0.25, '2022': 6.45, 'Country Code': 'IRL', 'IMF Country Code': 178, 'Country': 'Ireland', 'Series Name': 'Food Consumer Price Inflation'}\n",
      "{'1970': 4.3, '1971': 4.23, '1972': 7.24, '1973': 11.97, '1974': 19.59, '1975': 19.69, '1976': 19.0, '1977': 17.5, '1978': 13.03, '1979': 13.82, '1980': 15.66, '1981': 16.11, '1982': 15.26, '1983': 11.71, '1984': 9.18, '1985': 8.79, '1986': 5.35, '1987': 3.63, '1988': 3.45, '1989': 6.27, '1990': 6.01, '1991': 6.39, '1992': 4.96, '1993': 2.02, '1994': 3.58, '1995': 6.15, '1996': 3.95, '1997': -0.16, '1998': 1.01, '1999': 0.95, '2000': 1.57, '2001': 4.08, '2002': 3.64, '2003': 3.19, '2004': 2.16, '2005': -0.07, '2006': 1.71, '2007': 2.9, '2008': 5.39, '2009': 1.8, '2010': 0.2, '2011': 2.47, '2012': 2.52, '2013': 2.37, '2014': 0.13, '2015': 1.1, '2016': 0.17, '2017': 1.88, '2018': 1.22, '2019': 0.77, '2020': 1.4, '2021': 0.58, '2022': 8.75, 'Country Code': 'ITA', 'IMF Country Code': 136, 'Country': 'Italy', 'Series Name': 'Food Consumer Price Inflation'}\n",
      "{'1981': 1.7, '1982': 4.6, '1983': 0.8, '1984': -0.1, '1985': 2.3, '1986': 7.7, '1987': 5.9, '1988': -0.8, '1989': 0.1, '1990': 0.1, '1991': 217.6, '1992': 1086.5, '1993': 421.4, '1994': 59.59, '1995': 40.23, '1996': 27.74, '1997': 6.07, '1998': -0.15, '1999': -3.95, '2000': -2.44, '2001': 3.54, '2002': -0.71, '2003': -3.7, '2004': 2.22, '2005': 3.92, '2006': 6.09, '2007': 11.26, '2008': 15.93, '2009': 1.64, '2010': -0.45, '2011': 8.25, '2012': 3.05, '2013': 1.67, '2014': 0.77, '2015': -0.86, '2016': 1.23, '2017': 3.56, '2018': 1.44, '2019': 2.93, '2020': 2.26, '2021': 2.77, '2022': 25.4, 'Country Code': 'LTU', 'IMF Country Code': 946, 'Country': 'Lithuania', 'Series Name': 'Food Consumer Price Inflation'}\n",
      "{'1970': 5.1, '1971': 3.53, '1972': 6.7, '1973': 7.13, '1974': 9.0, '1975': 11.27, '1976': 12.13, '1977': 4.03, '1978': 1.54, '1979': 2.63, '1980': 3.6, '1981': 8.35, '1982': 10.61, '1983': 7.95, '1984': 7.32, '1985': 3.64, '1986': 2.87, '1987': -1.34, '1988': 1.1, '1989': 3.32, '1990': 3.23, '1991': 3.1, '1992': 0.74, '1993': -0.29, '1994': 1.78, '1995': 2.44, '1996': 0.84, '1997': 1.05, '1998': 2.68, '1999': 1.21, '2000': 2.04, '2001': 4.77, '2002': 3.91, '2003': 1.93, '2004': 1.83, '2005': 1.64, '2006': 2.37, '2007': 3.36, '2008': 5.37, '2009': 1.43, '2010': 0.87, '2011': 2.56, '2012': 2.57, '2013': 3.65, '2014': 0.56, '2015': 0.77, '2016': 1.53, '2017': 2.82, '2018': 2.21, '2019': 1.4, '2020': 2.73, '2021': 0.9, '2022': 6.64, 'Country Code': 'LUX', 'IMF Country Code': 137, 'Country': 'Luxembourg', 'Series Name': 'Food Consumer Price Inflation'}\n",
      "{'1991': 178.75, '1992': 773.99, '1993': 90.5, '1994': 33.26, '1995': 16.14, '1996': 12.41, '1997': 2.54, '1998': 1.33, '1999': -1.13, '2000': 0.63, '2001': 4.86, '2002': 3.42, '2003': 2.63, '2004': 7.37, '2005': 9.21, '2006': 8.15, '2007': 13.48, '2008': 18.26, '2009': -0.06, '2010': -0.29, '2011': 8.44, '2012': 2.31, '2013': 1.34, '2014': -0.28, '2015': -1.26, '2016': 1.07, '2017': 5.59, '2018': 0.58, '2019': 2.92, '2020': 2.38, '2021': 2.24, '2022': 20.86, 'Country Code': 'LVA', 'IMF Country Code': 941, 'Country': 'Latvia', 'Series Name': 'Food Consumer Price Inflation'}\n",
      "{'1970': 3.0, '1971': 0.7, '1972': 4.3, '1973': 13.9, '1974': 7.5, '1975': 7.3, '1976': -1.0, '1977': 19.0, '1978': 7.6, '1979': 5.1, '1980': 21.1, '1981': 13.0, '1982': 7.5, '1983': -2.0, '1984': -1.1, '1985': -1.1, '1986': 2.4, '1987': 0.7, '1988': 0.1, '1989': -0.6, '1990': 4.2, '1991': 1.5, '1992': 0.2, '1993': 5.2, '1994': 3.6, '1995': 3.3, '1996': 3.7, '1997': 1.4, '1998': 2.0, '1999': 0.8, '2000': 1.6, '2001': 6.0, '2002': 1.3, '2003': 1.7, '2004': 0.21, '2005': 1.76, '2006': 2.0, '2007': 4.36, '2008': 8.03, '2009': 6.37, '2010': 1.02, '2011': 3.84, '2012': 4.7, '2013': 4.78, '2014': 0.53, '2015': 2.97, '2016': 2.16, '2017': 3.46, '2018': 2.92, '2019': 3.62, '2020': 2.14, '2021': 2.35, '2022': 10.02, 'Country Code': 'MLT', 'IMF Country Code': 181, 'Country': 'Malta', 'Series Name': 'Food Consumer Price Inflation'}\n",
      "{'1970': 8.0, '1971': 4.67, '1972': 6.59, '1973': 7.93, '1974': 7.12, '1975': 8.05, '1976': 9.74, '1977': 5.59, '1978': 0.37, '1979': 2.19, '1980': 4.38, '1981': 5.7, '1982': 5.71, '1983': 0.17, '1984': 3.22, '1985': 0.3, '1986': -1.24, '1987': -2.05, '1988': 0.22, '1989': 1.13, '1990': 2.21, '1991': 3.4, '1992': 1.77, '1993': -0.31, '1994': 1.87, '1995': 0.38, '1996': -0.12, '1997': 1.63, '1998': 2.34, '1999': 1.31, '2000': 0.08, '2001': 7.04, '2002': 3.28, '2003': 1.11, '2004': -3.47, '2005': -1.29, '2006': 1.64, '2007': 1.03, '2008': 5.63, '2009': 1.08, '2010': -0.08, '2011': 2.21, '2012': 2.02, '2013': 2.41, '2014': -0.06, '2015': 0.65, '2016': 0.95, '2017': 2.66, '2018': 0.79, '2019': 4.05, '2020': 1.9, '2021': -0.21, '2022': 10.15, 'Country Code': 'NLD', 'IMF Country Code': 138, 'Country': 'Netherlands', 'Series Name': 'Food Consumer Price Inflation'}\n",
      "{'1970': 2.2, '1971': 1.9, '1972': -0.1, '1973': 1.0, '1974': 10.0, '1975': 0.9, '1976': 3.4, '1977': 5.1, '1978': 10.3, '1979': 8.1, '1980': 10.7, '1981': 30.1, '1982': 126.3, '1983': 20.3, '1984': 13.4, '1985': 11.8, '1986': 15.0, '1987': 23.2, '1988': 54.5, '1989': 300.8, '1990': 533.3, '1991': 51.0, '1992': 36.8, '1993': 32.5, '1994': 32.6, '1995': 27.2, '1996': 17.74, '1997': 12.39, '1998': 7.01, '1999': 1.71, '2000': 9.71, '2001': 4.65, '2002': -0.66, '2003': -1.19, '2004': 6.2, '2005': 2.17, '2006': 0.63, '2007': 4.5, '2008': 5.67, '2009': 4.56, '2010': 2.76, '2011': 5.11, '2012': 4.11, '2013': 1.94, '2014': -0.92, '2015': -1.63, '2016': 0.89, '2017': 4.35, '2018': 2.56, '2019': 4.85, '2020': 4.73, '2021': 3.18, '2022': 14.81, 'Country Code': 'POL', 'IMF Country Code': 964, 'Country': 'Poland', 'Series Name': 'Food Consumer Price Inflation'}\n",
      "{'1970': 4.9, '1971': 8.73, '1972': 10.15, '1973': 8.33, '1974': 33.15, '1975': 23.31, '1976': 21.61, '1977': 35.8, '1978': 18.72, '1979': 26.92, '1980': 15.82, '1981': 19.47, '1982': 24.83, '1983': 26.42, '1984': 32.1, '1985': 17.62, '1986': 8.49, '1987': 8.58, '1988': 7.62, '1989': 10.46, '1990': 14.05, '1991': 7.83, '1992': 6.03, '1993': 0.92, '1994': 3.69, '1995': 2.72, '1996': 2.03, '1997': 0.16, '1998': 3.74, '1999': 2.17, '2000': 2.12, '2001': 6.47, '2002': 1.53, '2003': 2.31, '2004': 1.12, '2005': -0.57, '2006': 2.69, '2007': 2.45, '2008': 3.72, '2009': -3.44, '2010': -0.24, '2011': 2.1, '2012': 3.2, '2013': 1.94, '2014': -1.34, '2015': 1.01, '2016': 0.49, '2017': 1.53, '2018': 0.74, '2019': 0.32, '2020': 2.09, '2021': 0.74, '2022': 12.33, 'Country Code': 'PRT', 'IMF Country Code': 182, 'Country': 'Portugal', 'Series Name': 'Food Consumer Price Inflation'}\n",
      "{'1970': 1.1, '1971': 1.5, '1972': 0.6, '1973': 1.2, '1974': 1.7, '1975': 0.4, '1976': 0.6, '1977': 0.9, '1978': 0.9, '1979': 0.8, '1980': 4.0, '1981': 1.6, '1982': 33.5, '1983': 9.8, '1984': -11.3, '1985': 1.2, '1986': 1.3, '1987': 1.7, '1988': 2.1, '1989': 1.6, '1990': 4.5, '1991': 198.8, '1992': 236.93, '1993': 248.85, '1994': 136.18, '1995': 31.72, '1996': 36.39, '1997': 151.31, '1998': 48.49, '1999': 27.92, '2000': 43.76, '2001': 35.95, '2002': 18.5, '2003': 14.83, '2004': 9.56, '2005': 6.16, '2006': 3.9, '2007': 3.9, '2008': 9.22, '2009': 3.26, '2010': 2.34, '2011': 6.02, '2012': 1.91, '2013': 2.96, '2014': -1.63, '2015': -3.8, '2016': -2.58, '2017': 2.48, '2018': 3.75, '2019': 4.7, '2020': 4.8, '2021': 2.81, '2022': 15.73, 'Country Code': 'ROU', 'IMF Country Code': 968, 'Country': 'Romania', 'Series Name': 'Food Consumer Price Inflation'}\n",
      "{'1986': 0.4, '1987': 0.2, '1988': -0.2, '1989': 0.1, '1990': 11.0, '1991': 51.92, '1992': 7.47, '1993': 20.58, '1994': 17.16, '1995': 12.53, '1996': 4.11, '1997': 5.68, '1998': 5.84, '1999': 2.72, '2000': 5.25, '2001': 5.89, '2002': 1.43, '2003': 3.38, '2004': 4.8, '2005': -1.37, '2006': 1.42, '2007': 3.99, '2008': 7.67, '2009': -3.23, '2010': 1.61, '2011': 6.06, '2012': 4.19, '2013': 3.51, '2014': -0.78, '2015': -0.29, '2016': -2.78, '2017': 3.97, '2018': 3.9, '2019': 4.0, '2020': 2.52, '2021': 1.83, '2022': 17.67, 'Country Code': 'SVK', 'IMF Country Code': 936, 'Country': 'Slovak Republic', 'Series Name': 'Food Consumer Price Inflation'}\n",
      "{'1981': 49.4, '1982': 36.0, '1983': 44.7, '1984': 53.1, '1985': 73.3, '1986': 100.0, '1987': 123.1, '1988': 210.3, '1989': 1288.9, '1990': 516.0, '1991': 112.3, '1992': 205.8, '1993': 25.7, '1994': 23.1, '1995': 15.6, '1996': 9.04, '1997': 8.6, '1998': 8.22, '1999': 3.72, '2000': 6.08, '2001': 9.13, '2002': 7.51, '2003': 4.46, '2004': 0.53, '2005': -1.01, '2006': 2.28, '2007': 8.02, '2008': 10.02, '2009': 0.49, '2010': 0.7, '2011': 4.39, '2012': 4.11, '2013': 3.6, '2014': -0.3, '2015': 0.83, '2016': 0.92, '2017': 2.22, '2018': 2.67, '2019': 1.6, '2020': 3.52, '2021': -0.2, '2022': 11.63, 'Country Code': 'SVN', 'IMF Country Code': 961, 'Country': 'Slovenia', 'Series Name': 'Food Consumer Price Inflation'}\n",
      "{'1970': 8.5, '1971': 9.2, '1972': 9.08, '1973': 5.78, '1974': 6.16, '1975': 11.8, '1976': 12.85, '1977': 14.62, '1978': 9.53, '1979': 5.35, '1980': 11.56, '1981': 15.02, '1982': 12.42, '1983': 11.66, '1984': 11.65, '1985': 7.43, '1986': 7.18, '1987': 3.09, '1988': 5.48, '1989': 5.74, '1990': 7.2, '1991': 4.54, '1992': -5.14, '1993': 0.7, '1994': 1.73, '1995': 1.43, '1996': -6.95, '1997': 0.38, '1998': 1.13, '1999': 1.48, '2000': 0.0, '2001': 2.87, '2002': 3.25, '2003': 0.32, '2004': -0.44, '2005': -0.69, '2006': 0.76, '2007': 2.03, '2008': 6.91, '2009': 2.89, '2010': 1.45, '2011': 1.28, '2012': 1.48, '2013': 2.21, '2014': 0.37, '2015': 2.33, '2016': 1.05, '2017': 2.14, '2018': 2.37, '2019': 34.36, '2020': 2.14, '2021': 0.41, '2022': 10.65, 'Country Code': 'SWE', 'IMF Country Code': 144, 'Country': 'Sweden', 'Series Name': 'Food Consumer Price Inflation'}\n"
     ]
    }
   ],
   "execution_count": 4
  },
  {
   "metadata": {},
   "cell_type": "markdown",
   "source": [
    "### Query MongoDB per l'integrazione dei dati atta a raggruppare i dati di food per anno\n",
    "Inizialmente i dati erano raggruppati per mese, è stata preso in considerazione il valore Inflation dove presente ed è stato sommato in modo da avere il valore annuale piuttosto che mensile. \\n\n",
    "\n"
   ],
   "id": "33d1ba0af8323c2c"
  },
  {
   "metadata": {},
   "cell_type": "markdown",
   "source": [
    "# Integrazione dei dati completa del data_set food con global Dataset\n",
    "- Vengono estratti i paesi distinti presenti in global_dataset e in food, viene eseguita la query per ottenere l'inflazione di ogni paese relativa al campo alimentare in global_dataset attraverso il campo Series Name. \\n\n",
    "- Viene in seguito definita una lista dei paesi presenti nel risultato della query e vengono ad essi aggiunti i paesi mancanti presenti nel dataset food con i relativi dati \n",
    "- Sono risultati alla fine solo due paesi mancanti: Somalia e South Sudan. I valori dell'inflazione sono stati calcolati nella cella precedente effettuando una somma dei valori mensili per ottenere quelli annuali.\n",
    "\n",
    "## Vediamo nel dettaglio la pipeline di funzioni:\n",
    "  - Viene eseguita una funzione per integrare i dati di food con global dataset.\n",
    "    Vengono formattati i dati di food, precedemente aventi un documento per ogni mese in\n",
    "    documenti divisi per anno e paese. Formattati 'Country', 'Year', 'infl'\n",
    "    Vengono poi identificati i paesi mancanti in global dataset che saranno integrati da food.\n",
    "    La differenza nella formattazione dei documenti può creare fastidio nei plot, il problema stato gestito come segue:\n",
    "    - I dati vengono formattati per l'operazione di plotting rimuovendo i campo non necessari e formattando i documenti in modo che contengano l'anno e il valore di inflazione in  ogni documento.\n",
    "     I documenti di global dataset erano formati da un campo 'Country' e un campo per\n",
    "     ogni anno con associato il valore di inflazione.\n",
    "     Nei dati di food il campo 'country' viene rinominato in 'Country'\n",
    "     per uniformità con gli altri documenti."
   ],
   "id": "d515ff65b8422e3e"
  },
  {
   "metadata": {
    "ExecuteTime": {
     "end_time": "2024-06-13T10:00:11.838040Z",
     "start_time": "2024-06-13T10:00:11.581002Z"
    }
   },
   "cell_type": "code",
   "source": [
    "country = \"Italy\"\n",
    "    \n",
    "years, inflation_values = utils.plot_food_inflation_by_country(food, global_dataset, country)\n",
    "\n",
    "# Crea il grafico\n",
    "plt.figure(figsize=(10, 6))\n",
    "plt.plot(years, inflation_values, marker='o')\n",
    "plt.xlabel('Year')\n",
    "plt.ylabel('Inflation (%)')\n",
    "plt.title(f'Annual Inflation of {country}')\n",
    "plt.grid(True)\n",
    "plt.show()"
   ],
   "id": "ff87206eba861a63",
   "outputs": [
    {
     "data": {
      "text/plain": [
       "<Figure size 1000x600 with 1 Axes>"
      ],
      "image/png": "[encoded data removed]"
     },
     "metadata": {},
     "output_type": "display_data"
    }
   ],
   "execution_count": 3
  },
  {
   "metadata": {},
   "cell_type": "markdown",
   "source": "#todo: Vedere i paesi di Cristiano Ronaldo con grouped data, inserendo i dati degli USA, instogramma paese, inflazione per anno",
   "id": "323b3e7b0317f81f"
  },
  {
   "metadata": {},
   "cell_type": "markdown",
   "source": [
    "## Collection: Global Inflation\n",
    "Lista dei paesi presenti nella collezione"
   ],
   "id": "b6901ca16ed0b9a9"
  },
  {
   "metadata": {},
   "cell_type": "code",
   "source": [
    "countries = global_inflation.distinct(\"country_name\")\n",
    "countries"
   ],
   "id": "a59fd3e1a38ec1c1",
   "outputs": [],
   "execution_count": null
  },
  {
   "metadata": {},
   "cell_type": "markdown",
   "source": "#### Estrazione Paese con maggiore inflazione in base all'anno",
   "id": "251e7eb23f0b3e43"
  },
  {
   "metadata": {},
   "cell_type": "markdown",
   "source": "",
   "id": "87cf0b1b299a9246"
  },
  {
   "metadata": {},
   "cell_type": "code",
   "source": [
    "# Query per trovare il paese con la massima inflazione in un anno specifico\n",
    "anno = 1991\n",
    "max_inflation = utils.get_max_infl_year(global_inflation, anno)\n",
    "\n",
    "country_max_infl = global_inflation.find_one({\"_id\": max_inflation.next()['_id']})\n",
    "country_name = country_max_infl['country_name']\n",
    "\n",
    "print(f\"Il paese con la maggiore inflazione nel {anno} è: {country_name} con un valore di {country_max_infl[str(anno)]}%\")"
   ],
   "id": "6868457abebfa7a1",
   "outputs": [],
   "execution_count": null
  },
  {
   "metadata": {},
   "cell_type": "code",
   "source": [
    "del country_max_infl['_id']\n",
    "del country_max_infl['country_name']\n",
    "del country_max_infl['indicator_name']"
   ],
   "id": "1c3b218e054d938d",
   "outputs": [],
   "execution_count": null
  },
  {
   "metadata": {},
   "cell_type": "markdown",
   "source": "## Plot dell'inflazione annuale per il paese con la maggiore inflazione precedentemente calcolata",
   "id": "4162d37683ae41ed"
  },
  {
   "metadata": {},
   "cell_type": "code",
   "source": [
    "import matplotlib.pyplot as plt\n",
    "\n",
    "anni = list(country_max_infl.keys())\n",
    "inflazione = list(country_max_infl.values())\n",
    "plt.figure(figsize=(10, 6))\n",
    "plt.plot(anni, inflazione, marker='o', label='Inflazione annuale')\n",
    "plt.xlabel('Anno')\n",
    "plt.ylabel('Inflazione (%)')\n",
    "plt.title(f'Inflazione annuale di: {country_name}')\n",
    "plt.xticks(rotation=90)\n",
    "plt.show()"
   ],
   "id": "397b1c4cd9e2a5e",
   "outputs": [],
   "execution_count": null
  },
  {
   "metadata": {},
   "cell_type": "markdown",
   "source": "# Inflazione media per paese",
   "id": "6fc615eb2c70cf3"
  },
  {
   "metadata": {},
   "cell_type": "code",
   "source": [
    "\n",
    "country_name = \"Italy\"\n",
    "avg_ita_infl = utils.get_avg_infl_years(global_inflation, country_name)\n",
    "print(f\"L'inflazione media in {country_name} dal 1980 al 2024 è {avg_ita_infl.next()['avgInflation']:.2f}%\")"
   ],
   "id": "fc81ad4b2627371f",
   "outputs": [],
   "execution_count": null
  },
  {
   "metadata": {},
   "cell_type": "markdown",
   "source": "# Analisi dell'inflazione negli anni dato il paese ",
   "id": "df7b670c333746d7"
  },
  {
   "metadata": {},
   "cell_type": "code",
   "source": [
    "country = \"Italy\"\n",
    "inflation_values, years = utils.get_inflation_by_country(global_inflation, country)\n",
    "\n",
    "plt.figure(figsize=(10, 6))\n",
    "plt.plot(inflation_values, years, marker='o', label='Inflazione annuale')\n",
    "plt.xlabel('Anno')\n",
    "plt.ylabel('Inflazione (%)')\n",
    "plt.title(f'Inflazione annuale di: {country_name}')\n",
    "plt.xticks(rotation=90)\n",
    "plt.legend()\n",
    "plt.show()"
   ],
   "id": "8fa37c9fdd540548",
   "outputs": [],
   "execution_count": null
  },
  {
   "metadata": {},
   "cell_type": "markdown",
   "source": "",
   "id": "3fc52bbbd53e1a81"
  },
  {
   "metadata": {},
   "cell_type": "markdown",
   "source": [
    "# Operazioni CRUD\n",
    "## Inserimento\n",
    "Sfruttando le caratteristiche NoSQL generalizziamo l'inserimento con un documento di questa forma: country_name, inflation_values, year. \\n"
   ],
   "id": "c38acd730b7e9179"
  },
  {
   "metadata": {},
   "cell_type": "code",
   "source": [
    "utils.insert_into_collection(global_inflation, \"Sbiriguda\",69.69, 2023)\n",
    "utils.insert_into_collection(food, \"Sbiriguda\",69.69, 2023)\n",
    "utils.insert_into_collection(global_dataset, \"Sbiriguda\",69.69, 2023)"
   ],
   "id": "7db5a21f42877403",
   "outputs": [],
   "execution_count": null
  },
  {
   "metadata": {},
   "cell_type": "markdown",
   "source": "## Cancellazione",
   "id": "a6b2079e8bcf33e3"
  },
  {
   "metadata": {},
   "cell_type": "markdown",
   "source": "La cancellazione per correttezza e integrità dei dati è stata gestita sulla web app tramite id del documento MongoDB da eliminare \\n",
   "id": "9c12f869dfae6365"
  },
  {
   "metadata": {},
   "cell_type": "code",
   "source": "",
   "id": "13783a409bfaf25e",
   "outputs": [],
   "execution_count": null
  }
 ],
 "metadata": {
  "kernelspec": {
   "display_name": "Python 3",
   "language": "python",
   "name": "python3"
  },
  "language_info": {
   "codemirror_mode": {
    "name": "ipython",
    "version": 2
   },
   "file_extension": ".py",
   "mimetype": "text/x-python",
   "name": "python",
   "nbconvert_exporter": "python",
   "pygments_lexer": "ipython2",
   "version": "2.7.6"
  }
 },
 "nbformat": 4,
 "nbformat_minor": 5
}
