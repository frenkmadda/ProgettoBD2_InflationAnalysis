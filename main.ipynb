{
 "cells": [
  {
   "metadata": {
    "ExecuteTime": {
     "end_time": "2024-05-30T13:11:23.224970Z",
     "start_time": "2024-05-30T13:11:23.052960Z"
    }
   },
   "cell_type": "code",
   "source": [
    "import pymongo\n",
    "\n",
    "client = pymongo.MongoClient(\"mongodb://localhost:27017/\")\n",
    "db = client[\"ProgettoBD2\"]\n",
    "\n",
    "food = db[\"food\"]\n",
    "global_dataset = db[\"global_dataset\"]\n",
    "global_inflation = db[\"global_inflation\"]\n",
    "us_cpi = db[\"consumer_price_index\"]"
   ],
   "id": "c69a9efb5e36c372",
   "outputs": [],
   "execution_count": 1
  },
  {
   "metadata": {
    "ExecuteTime": {
     "end_time": "2024-05-30T13:11:23.235900Z",
     "start_time": "2024-05-30T13:11:23.226924Z"
    }
   },
   "cell_type": "code",
   "source": [
    "import utils\n",
    "\n",
    "query = {\"High\": {\"$gt\": 20}}\n",
    "utils.query_print_all(food, query)"
   ],
   "id": "760a28952c692c9b",
   "outputs": [
    {
     "name": "stdout",
     "output_type": "stream",
     "text": [
      "{'_id': ObjectId('6655d9b812bd7dbca3c5b1c4'), 'Open': 21, 'High': 21.58, 'Low': 20.42, 'Close': 21.13, 'Inflation': 153.8, 'country': 'Lebanon', 'ISO3': 'LBN', 'date': datetime.datetime(2022, 10, 1, 0, 0)}\n",
      "{'_id': ObjectId('6655d9b812bd7dbca3c5b1c5'), 'Open': 22.85, 'High': 23.35, 'Low': 21.47, 'Close': 21.47, 'Inflation': 126.15, 'country': 'Lebanon', 'ISO3': 'LBN', 'date': datetime.datetime(2022, 11, 1, 0, 0)}\n",
      "{'_id': ObjectId('6655d9b812bd7dbca3c5b1c6'), 'Open': 22.69, 'High': 23.41, 'Low': 21.98, 'Close': 23, 'Inflation': 108.36, 'country': 'Lebanon', 'ISO3': 'LBN', 'date': datetime.datetime(2022, 12, 1, 0, 0)}\n",
      "{'_id': ObjectId('6655d9b812bd7dbca3c5b1c7'), 'Open': 24.96, 'High': 25.57, 'Low': 24.35, 'Close': 25.33, 'Inflation': 107.23, 'country': 'Lebanon', 'ISO3': 'LBN', 'date': datetime.datetime(2023, 1, 1, 0, 0)}\n",
      "{'_id': ObjectId('6655d9b812bd7dbca3c5b1c8'), 'Open': 27.4, 'High': 27.95, 'Low': 26.19, 'Close': 26.19, 'Inflation': 131.5, 'country': 'Lebanon', 'ISO3': 'LBN', 'date': datetime.datetime(2023, 2, 1, 0, 0)}\n",
      "{'_id': ObjectId('6655d9b812bd7dbca3c5b1c9'), 'Open': 27.7, 'High': 28.39, 'Low': 27, 'Close': 28.24, 'Inflation': 139.29, 'country': 'Lebanon', 'ISO3': 'LBN', 'date': datetime.datetime(2023, 3, 1, 0, 0)}\n",
      "{'_id': ObjectId('6655d9b812bd7dbca3c5b1ca'), 'Open': 30.58, 'High': 31.22, 'Low': 29.95, 'Close': 30.15, 'Inflation': 132.3, 'country': 'Lebanon', 'ISO3': 'LBN', 'date': datetime.datetime(2023, 4, 1, 0, 0)}\n",
      "{'_id': ObjectId('6655d9b812bd7dbca3c5b1cb'), 'Open': 32.15, 'High': 32.72, 'Low': 31.58, 'Close': 32.19, 'Inflation': 121.53, 'country': 'Lebanon', 'ISO3': 'LBN', 'date': datetime.datetime(2023, 5, 1, 0, 0)}\n",
      "{'_id': ObjectId('6655d9b812bd7dbca3c5b1cc'), 'Open': 34.54, 'High': 35.03, 'Low': 34.06, 'Close': 34.93, 'Inflation': 125.45, 'country': 'Lebanon', 'ISO3': 'LBN', 'date': datetime.datetime(2023, 6, 1, 0, 0)}\n",
      "{'_id': ObjectId('6655d9b812bd7dbca3c5b1cd'), 'Open': 37.6, 'High': 38.06, 'Low': 37.13, 'Close': 37.67, 'Inflation': 137.39, 'country': 'Lebanon', 'ISO3': 'LBN', 'date': datetime.datetime(2023, 7, 1, 0, 0)}\n",
      "{'_id': ObjectId('6655d9b812bd7dbca3c5b1ce'), 'Open': 40.42, 'High': 40.84, 'Low': 40.01, 'Close': 40.43, 'Inflation': 139.28, 'country': 'Lebanon', 'ISO3': 'LBN', 'date': datetime.datetime(2023, 8, 1, 0, 0)}\n",
      "{'_id': ObjectId('6655d9b812bd7dbca3c5b1cf'), 'Open': 43.41, 'High': 43.79, 'Low': 42.87, 'Close': 42.87, 'Inflation': 123.83, 'country': 'Lebanon', 'ISO3': 'LBN', 'date': datetime.datetime(2023, 9, 1, 0, 0)}\n",
      "{'_id': ObjectId('6655d9b812bd7dbca3c5b1d0'), 'Open': 45.81, 'High': 46.63, 'Low': 45.38, 'Close': 46.63, 'Inflation': 120.65, 'country': 'Lebanon', 'ISO3': 'LBN', 'date': datetime.datetime(2023, 10, 1, 0, 0)}\n",
      "{'_id': ObjectId('6655d9b812bd7dbca3c5b731'), 'Open': 19.5, 'High': 21.3, 'Low': 18.8, 'Close': 21.3, 'Inflation': 175.68, 'country': 'Sudan', 'ISO3': 'SDN', 'date': datetime.datetime(2021, 9, 1, 0, 0)}\n",
      "{'_id': ObjectId('6655d9b812bd7dbca3c5b732'), 'Open': 23.23, 'High': 24.1, 'Low': 22.05, 'Close': 22.05, 'Inflation': 133.32, 'country': 'Sudan', 'ISO3': 'SDN', 'date': datetime.datetime(2021, 10, 1, 0, 0)}\n",
      "{'_id': ObjectId('6655d9b812bd7dbca3c5b733'), 'Open': 23.27, 'High': 24.17, 'Low': 22.38, 'Close': 23.83, 'Inflation': 142.24, 'country': 'Sudan', 'ISO3': 'SDN', 'date': datetime.datetime(2021, 11, 1, 0, 0)}\n",
      "{'_id': ObjectId('6655d9b812bd7dbca3c5b734'), 'Open': 25.57, 'High': 26.5, 'Low': 24.05, 'Close': 24.05, 'Inflation': 147.93, 'country': 'Sudan', 'ISO3': 'SDN', 'date': datetime.datetime(2021, 12, 1, 0, 0)}\n",
      "{'_id': ObjectId('6655d9b812bd7dbca3c5b735'), 'Open': 25.28, 'High': 26.23, 'Low': 24.25, 'Close': 24.25, 'Inflation': 146.7, 'country': 'Sudan', 'ISO3': 'SDN', 'date': datetime.datetime(2022, 1, 1, 0, 0)}\n",
      "{'_id': ObjectId('6655d9b812bd7dbca3c5b736'), 'Open': 25.5, 'High': 26.44, 'Low': 24.56, 'Close': 25.03, 'Inflation': 104.2, 'country': 'Sudan', 'ISO3': 'SDN', 'date': datetime.datetime(2022, 2, 1, 0, 0)}\n",
      "{'_id': ObjectId('6655d9b812bd7dbca3c5b737'), 'Open': 26.42, 'High': 35.3, 'Low': 25.48, 'Close': 35.3, 'Inflation': 161.82, 'country': 'Sudan', 'ISO3': 'SDN', 'date': datetime.datetime(2022, 3, 1, 0, 0)}\n",
      "{'_id': ObjectId('6655d9b812bd7dbca3c5b738'), 'Open': 38.54, 'High': 42.39, 'Low': 37.05, 'Close': 42.39, 'Inflation': 194.23, 'country': 'Sudan', 'ISO3': 'SDN', 'date': datetime.datetime(2022, 4, 1, 0, 0)}\n",
      "{'_id': ObjectId('6655d9b812bd7dbca3c5b739'), 'Open': 46.37, 'High': 48.24, 'Low': 43.29, 'Close': 43.29, 'Inflation': 188.87, 'country': 'Sudan', 'ISO3': 'SDN', 'date': datetime.datetime(2022, 5, 1, 0, 0)}\n",
      "{'_id': ObjectId('6655d9b812bd7dbca3c5b73a'), 'Open': 45.59, 'High': 48.02, 'Low': 43.67, 'Close': 48.02, 'Inflation': 193.74, 'country': 'Sudan', 'ISO3': 'SDN', 'date': datetime.datetime(2022, 6, 1, 0, 0)}\n",
      "{'_id': ObjectId('6655d9b812bd7dbca3c5b73b'), 'Open': 52.03, 'High': 54.14, 'Low': 49.92, 'Close': 50.51, 'Inflation': 181.78, 'country': 'Sudan', 'ISO3': 'SDN', 'date': datetime.datetime(2022, 7, 1, 0, 0)}\n",
      "{'_id': ObjectId('6655d9b812bd7dbca3c5b73c'), 'Open': 53.73, 'High': 55.89, 'Low': 51.58, 'Close': 55.77, 'Inflation': 201.75, 'country': 'Sudan', 'ISO3': 'SDN', 'date': datetime.datetime(2022, 8, 1, 0, 0)}\n",
      "{'_id': ObjectId('6655d9b812bd7dbca3c5b73d'), 'Open': 60.28, 'High': 62.6, 'Low': 57.96, 'Close': 58.32, 'Inflation': 173.73, 'country': 'Sudan', 'ISO3': 'SDN', 'date': datetime.datetime(2022, 9, 1, 0, 0)}\n",
      "{'_id': ObjectId('6655d9b812bd7dbca3c5b73e'), 'Open': 62.01, 'High': 64.37, 'Low': 58.01, 'Close': 58.01, 'Inflation': 163.02, 'country': 'Sudan', 'ISO3': 'SDN', 'date': datetime.datetime(2022, 10, 1, 0, 0)}\n",
      "{'_id': ObjectId('6655d9b812bd7dbca3c5b73f'), 'Open': 60.96, 'High': 63.34, 'Low': 54.79, 'Close': 54.79, 'Inflation': 129.88, 'country': 'Sudan', 'ISO3': 'SDN', 'date': datetime.datetime(2022, 11, 1, 0, 0)}\n",
      "{'_id': ObjectId('6655d9b812bd7dbca3c5b740'), 'Open': 56.77, 'High': 59.19, 'Low': 54.34, 'Close': 57.32, 'Inflation': 138.32, 'country': 'Sudan', 'ISO3': 'SDN', 'date': datetime.datetime(2022, 12, 1, 0, 0)}\n",
      "{'_id': ObjectId('6655d9b812bd7dbca3c5b741'), 'Open': 60.85, 'High': 63.28, 'Low': 56.76, 'Close': 56.76, 'Inflation': 134.04, 'country': 'Sudan', 'ISO3': 'SDN', 'date': datetime.datetime(2023, 1, 1, 0, 0)}\n",
      "{'_id': ObjectId('6655d9b812bd7dbca3c5b742'), 'Open': 59.05, 'High': 61.49, 'Low': 56.62, 'Close': 60.29, 'Inflation': 140.92, 'country': 'Sudan', 'ISO3': 'SDN', 'date': datetime.datetime(2023, 2, 1, 0, 0)}\n",
      "{'_id': ObjectId('6655d9b812bd7dbca3c5b743'), 'Open': 63.96, 'High': 66.46, 'Low': 61.46, 'Close': 64.98, 'Inflation': 84.1, 'country': 'Sudan', 'ISO3': 'SDN', 'date': datetime.datetime(2023, 3, 1, 0, 0)}\n",
      "{'_id': ObjectId('6655d9b812bd7dbca3c5b744'), 'Open': 69, 'High': 71.6, 'Low': 66.4, 'Close': 68.54, 'Inflation': 61.67, 'country': 'Sudan', 'ISO3': 'SDN', 'date': datetime.datetime(2023, 4, 1, 0, 0)}\n",
      "{'_id': ObjectId('6655d9b812bd7dbca3c5b745'), 'Open': 72.36, 'High': 75, 'Low': 69.73, 'Close': 71.2, 'Inflation': 64.48, 'country': 'Sudan', 'ISO3': 'SDN', 'date': datetime.datetime(2023, 5, 1, 0, 0)}\n",
      "{'_id': ObjectId('6655d9b812bd7dbca3c5b746'), 'Open': 74.94, 'High': 77.59, 'Low': 70.2, 'Close': 70.2, 'Inflation': 46.19, 'country': 'Sudan', 'ISO3': 'SDN', 'date': datetime.datetime(2023, 6, 1, 0, 0)}\n",
      "{'_id': ObjectId('6655d9b812bd7dbca3c5b747'), 'Open': 72.84, 'High': 75.51, 'Low': 70.18, 'Close': 73.36, 'Inflation': 45.25, 'country': 'Sudan', 'ISO3': 'SDN', 'date': datetime.datetime(2023, 7, 1, 0, 0)}\n",
      "{'_id': ObjectId('6655d9b812bd7dbca3c5b748'), 'Open': 77.3, 'High': 79.99, 'Low': 74.61, 'Close': 75.16, 'Inflation': 34.75, 'country': 'Sudan', 'ISO3': 'SDN', 'date': datetime.datetime(2023, 8, 1, 0, 0)}\n",
      "{'_id': ObjectId('6655d9b812bd7dbca3c5b749'), 'Open': 78.51, 'High': 94.21, 'Low': 75.82, 'Close': 94.21, 'Inflation': 61.55, 'country': 'Sudan', 'ISO3': 'SDN', 'date': datetime.datetime(2023, 9, 1, 0, 0)}\n",
      "{'_id': ObjectId('6655d9b812bd7dbca3c5b74a'), 'Open': 102.46, 'High': 106.48, 'Low': 94.42, 'Close': 94.42, 'Inflation': 62.78, 'country': 'Sudan', 'ISO3': 'SDN', 'date': datetime.datetime(2023, 10, 1, 0, 0)}\n"
     ]
    }
   ],
   "execution_count": 2
  },
  {
   "metadata": {},
   "cell_type": "markdown",
   "source": [
    "## Collection: Food\n",
    "Sono solo kebabbari e talebani"
   ],
   "id": "d5969dcc645c4e93"
  },
  {
   "metadata": {
    "ExecuteTime": {
     "end_time": "2024-05-30T13:11:23.246056Z",
     "start_time": "2024-05-30T13:11:23.236967Z"
    }
   },
   "cell_type": "code",
   "source": [
    "countries = food.distinct(\"country\")\n",
    "countries"
   ],
   "id": "3974e34c0872b498",
   "outputs": [
    {
     "data": {
      "text/plain": [
       "['Afghanistan',\n",
       " 'Burkina Faso',\n",
       " 'Burundi',\n",
       " 'Cameroon',\n",
       " 'Central African Republic',\n",
       " 'Chad',\n",
       " 'Congo, Dem. Rep.',\n",
       " 'Congo, Rep.',\n",
       " 'Gambia, The',\n",
       " 'Guinea-Bissau',\n",
       " 'Haiti',\n",
       " 'Iraq',\n",
       " 'Lao PDR',\n",
       " 'Lebanon',\n",
       " 'Liberia',\n",
       " 'Mali',\n",
       " 'Mozambique',\n",
       " 'Myanmar',\n",
       " 'Niger',\n",
       " 'Nigeria',\n",
       " 'Somalia',\n",
       " 'South Sudan',\n",
       " 'Sudan',\n",
       " 'Syrian Arab Republic',\n",
       " 'Yemen, Rep.']"
      ]
     },
     "execution_count": 3,
     "metadata": {},
     "output_type": "execute_result"
    }
   ],
   "execution_count": 3
  },
  {
   "metadata": {
    "ExecuteTime": {
     "end_time": "2024-05-30T13:11:23.253890Z",
     "start_time": "2024-05-30T13:11:23.247762Z"
    }
   },
   "cell_type": "code",
   "source": [
    "countries = global_dataset.distinct(\"Country\")\n",
    "countries"
   ],
   "id": "33b2d0dcbe374887",
   "outputs": [
    {
     "data": {
      "text/plain": [
       "['Afghanistan',\n",
       " 'Albania',\n",
       " 'Algeria',\n",
       " 'Angola',\n",
       " 'Antigua and Barbuda',\n",
       " 'Argentina',\n",
       " 'Armenia',\n",
       " 'Aruba',\n",
       " 'Australia',\n",
       " 'Austria',\n",
       " 'Azerbaijan',\n",
       " 'Bahamas, The',\n",
       " 'Bahrain',\n",
       " 'Bangladesh',\n",
       " 'Barbados',\n",
       " 'Belarus',\n",
       " 'Belgium',\n",
       " 'Belize',\n",
       " 'Benin',\n",
       " 'Bhutan',\n",
       " 'Bolivia',\n",
       " 'Bosnia and Herzegovina',\n",
       " 'Botswana',\n",
       " 'Brazil',\n",
       " 'British Virgin Islands',\n",
       " 'Brunei Darussalam',\n",
       " 'Bulgaria',\n",
       " 'Burkina Faso',\n",
       " 'Burundi',\n",
       " 'Cabo Verde',\n",
       " 'Cambodia',\n",
       " 'Cameroon',\n",
       " 'Canada',\n",
       " 'Cayman Islands',\n",
       " 'Central African Republic',\n",
       " 'Chad',\n",
       " 'Chile',\n",
       " 'China',\n",
       " 'Colombia',\n",
       " 'Comoros',\n",
       " 'Congo, Dem. Rep.',\n",
       " 'Congo, Rep.',\n",
       " 'Costa Rica',\n",
       " 'Croatia',\n",
       " 'Curacao',\n",
       " 'Cyprus',\n",
       " 'Czech Republic',\n",
       " \"Côte d'Ivoire\",\n",
       " 'Denmark',\n",
       " 'Djibouti',\n",
       " 'Dominica',\n",
       " 'Dominican Republic',\n",
       " 'Ecuador',\n",
       " 'Egypt, Arab Rep.',\n",
       " 'El Salvador',\n",
       " 'Equatorial Guinea',\n",
       " 'Eritrea',\n",
       " 'Estonia',\n",
       " 'Ethiopia',\n",
       " 'Fiji',\n",
       " 'Finland',\n",
       " 'France',\n",
       " 'Gabon',\n",
       " 'Gambia, The',\n",
       " 'Georgia',\n",
       " 'Germany',\n",
       " 'Ghana',\n",
       " 'Greece',\n",
       " 'Grenada',\n",
       " 'Guatemala',\n",
       " 'Guinea',\n",
       " 'Guinea-Bissau',\n",
       " 'Guyana',\n",
       " 'Haiti',\n",
       " 'Honduras',\n",
       " 'Hong Kong SAR',\n",
       " 'Hong Kong SAR, China',\n",
       " 'Hungary',\n",
       " 'Iceland',\n",
       " 'India',\n",
       " 'Indonesia',\n",
       " 'Iran, Islamic Rep.',\n",
       " 'Iraq',\n",
       " 'Ireland',\n",
       " 'Israel',\n",
       " 'Italy',\n",
       " 'Jamaica',\n",
       " 'Japan',\n",
       " 'Jordan',\n",
       " 'Kazakhstan',\n",
       " 'Kenya',\n",
       " 'Kiribati',\n",
       " 'Korea, Rep.',\n",
       " 'Kosovo',\n",
       " 'Kuwait',\n",
       " 'Kyrgyz Republic',\n",
       " 'Lao PDR',\n",
       " 'Lao, PDR',\n",
       " 'Latvia',\n",
       " 'Lebanon',\n",
       " 'Lesotho',\n",
       " 'Liberia',\n",
       " 'Libya',\n",
       " 'Liechtenstein',\n",
       " 'Lithuania',\n",
       " 'Luxembourg',\n",
       " 'Macao SAR, China',\n",
       " 'Macedonia, FYR',\n",
       " 'Madagascar',\n",
       " 'Malawi',\n",
       " 'Malaysia',\n",
       " 'Maldives',\n",
       " 'Mali',\n",
       " 'Malta',\n",
       " 'Marshall Islands',\n",
       " 'Martinique',\n",
       " 'Mauritania',\n",
       " 'Mauritius',\n",
       " 'Mexico',\n",
       " 'Micronesia, Fed. Sts.',\n",
       " 'Moldova',\n",
       " 'Moldova, Rep.',\n",
       " 'Mongolia',\n",
       " 'Montenegro',\n",
       " 'Montserratit',\n",
       " 'Morocco',\n",
       " 'Mozambique',\n",
       " 'Myanmar',\n",
       " 'Namibia',\n",
       " 'Nauru',\n",
       " 'Nepal',\n",
       " 'Netherlands',\n",
       " 'New Caledonia',\n",
       " 'New Zealand',\n",
       " 'Nicaragua',\n",
       " 'Niger',\n",
       " 'Nigeria',\n",
       " 'Niue',\n",
       " 'North Macedonia',\n",
       " 'Norway',\n",
       " 'Oman',\n",
       " 'Pakistan',\n",
       " 'Palau',\n",
       " 'Panama',\n",
       " 'Papua New Guinea',\n",
       " 'Paraguay',\n",
       " 'Peru',\n",
       " 'Philippines',\n",
       " 'Poland',\n",
       " 'Portugal',\n",
       " 'Puerto Rico',\n",
       " 'Qatar',\n",
       " 'Romania',\n",
       " 'Russian Federation',\n",
       " 'Rwanda',\n",
       " 'Saint Helena',\n",
       " 'Samoa',\n",
       " 'San Marino',\n",
       " 'Saudi Arabia',\n",
       " 'Senegal',\n",
       " 'Serbia',\n",
       " 'Seychelles',\n",
       " 'Sierra Leone',\n",
       " 'Singapore',\n",
       " 'Slovak Republic',\n",
       " 'Slovakia',\n",
       " 'Slovenia',\n",
       " 'Solomon Islands',\n",
       " 'Somalia',\n",
       " 'South Africa',\n",
       " 'South Sudan',\n",
       " 'Spain',\n",
       " 'Sri Lanka',\n",
       " 'St. Kitts and Nevis',\n",
       " 'St. Lucia',\n",
       " 'St. Vincent and the Grenadines',\n",
       " 'Sudan',\n",
       " 'Suriname',\n",
       " 'Swaziland',\n",
       " 'Sweden',\n",
       " 'Switzerland',\n",
       " 'Syrian Arab Republic',\n",
       " 'São Tomé and Principe',\n",
       " 'Taiwan, China',\n",
       " 'Tajikistan',\n",
       " 'Tanzania',\n",
       " 'Tanzania, United Rep.',\n",
       " 'Thailand',\n",
       " 'Timor-Leste',\n",
       " 'Togo',\n",
       " 'Tonga',\n",
       " 'Trinidad and Tobago',\n",
       " 'Tunisia',\n",
       " 'Turkey',\n",
       " 'Turkmenistan',\n",
       " 'Turks and Caicos Islands',\n",
       " 'Tuvalu',\n",
       " 'Uganda',\n",
       " 'Ukraine',\n",
       " 'United Arab Emirates',\n",
       " 'United Kingdom',\n",
       " 'United States',\n",
       " 'Uruguay',\n",
       " 'Uzbekistan',\n",
       " 'Vanuatu',\n",
       " 'Venezuela, RB',\n",
       " 'Vietnam',\n",
       " 'West Bank and Gaza',\n",
       " 'Yemen, Rep.',\n",
       " 'Zambia',\n",
       " 'Zimbabwe']"
      ]
     },
     "execution_count": 4,
     "metadata": {},
     "output_type": "execute_result"
    }
   ],
   "execution_count": 4
  },
  {
   "metadata": {},
   "cell_type": "markdown",
   "source": [
    "## Collection: Global Dataset\n",
    "L'inflazione è suddivisa in categorie"
   ],
   "id": "68e04b47367747f2"
  },
  {
   "metadata": {
    "ExecuteTime": {
     "end_time": "2024-05-30T13:11:23.258548Z",
     "start_time": "2024-05-30T13:11:23.254934Z"
    }
   },
   "cell_type": "code",
   "source": [
    "query = {\"Country\": \"Italy\"}\n",
    "utils.query_print_parameter(global_dataset, query, \"Series Name\")"
   ],
   "id": "88fb989eb396c9b5",
   "outputs": [
    {
     "name": "stdout",
     "output_type": "stream",
     "text": [
      "Headline Consumer Price Inflation\n",
      "Energy Consumer Price Inflation\n",
      "Food Consumer Price Inflation\n",
      "Official Core Consumer Price Inflation\n",
      "Producer Price Inflation\n"
     ]
    }
   ],
   "execution_count": 5
  },
  {
   "metadata": {
    "ExecuteTime": {
     "end_time": "2024-05-30T13:11:23.263841Z",
     "start_time": "2024-05-30T13:11:23.259422Z"
    }
   },
   "cell_type": "code",
   "source": [
    "countries = global_inflation.distinct(\"country_name\")\n",
    "countries"
   ],
   "id": "a59fd3e1a38ec1c1",
   "outputs": [
    {
     "data": {
      "text/plain": [
       "['Afghanistan',\n",
       " 'Albania',\n",
       " 'Algeria',\n",
       " 'Andorra',\n",
       " 'Angola',\n",
       " 'Antigua and Barbuda',\n",
       " 'Argentina',\n",
       " 'Armenia',\n",
       " 'Aruba',\n",
       " 'Australia',\n",
       " 'Austria',\n",
       " 'Azerbaijan',\n",
       " 'Bahamas, The',\n",
       " 'Bahrain',\n",
       " 'Bangladesh',\n",
       " 'Barbados',\n",
       " 'Belarus',\n",
       " 'Belgium',\n",
       " 'Belize',\n",
       " 'Benin',\n",
       " 'Bhutan',\n",
       " 'Bolivia',\n",
       " 'Bosnia and Herzegovina',\n",
       " 'Botswana',\n",
       " 'Brazil',\n",
       " 'Brunei Darussalam',\n",
       " 'Bulgaria',\n",
       " 'Burkina Faso',\n",
       " 'Burundi',\n",
       " 'Cabo Verde',\n",
       " 'Cambodia',\n",
       " 'Cameroon',\n",
       " 'Canada',\n",
       " 'Central African Republic',\n",
       " 'Chad',\n",
       " 'Chile',\n",
       " \"China, People's Republic of\",\n",
       " 'Colombia',\n",
       " 'Comoros',\n",
       " 'Congo, Dem. Rep. of the',\n",
       " 'Congo, Republic of ',\n",
       " 'Costa Rica',\n",
       " 'Croatia',\n",
       " 'Cyprus',\n",
       " 'Czech Republic',\n",
       " \"Côte d'Ivoire\",\n",
       " 'Denmark',\n",
       " 'Djibouti',\n",
       " 'Dominica',\n",
       " 'Dominican Republic',\n",
       " 'Ecuador',\n",
       " 'Egypt',\n",
       " 'El Salvador',\n",
       " 'Equatorial Guinea',\n",
       " 'Eritrea',\n",
       " 'Estonia',\n",
       " 'Eswatini',\n",
       " 'Ethiopia',\n",
       " 'Fiji',\n",
       " 'Finland',\n",
       " 'France',\n",
       " 'Gabon',\n",
       " 'Gambia, The',\n",
       " 'Georgia',\n",
       " 'Germany',\n",
       " 'Ghana',\n",
       " 'Greece',\n",
       " 'Grenada',\n",
       " 'Guatemala',\n",
       " 'Guinea',\n",
       " 'Guinea-Bissau',\n",
       " 'Guyana',\n",
       " 'Haiti',\n",
       " 'Honduras',\n",
       " 'Hong Kong SAR',\n",
       " 'Hungary',\n",
       " 'Iceland',\n",
       " 'India',\n",
       " 'Indonesia',\n",
       " 'Iran',\n",
       " 'Iraq',\n",
       " 'Ireland',\n",
       " 'Israel',\n",
       " 'Italy',\n",
       " 'Jamaica',\n",
       " 'Japan',\n",
       " 'Jordan',\n",
       " 'Kazakhstan',\n",
       " 'Kenya',\n",
       " 'Kiribati',\n",
       " 'Korea, Republic of',\n",
       " 'Kosovo',\n",
       " 'Kuwait',\n",
       " 'Kyrgyz Republic',\n",
       " 'Lao P.D.R.',\n",
       " 'Latvia',\n",
       " 'Lebanon',\n",
       " 'Lesotho',\n",
       " 'Liberia',\n",
       " 'Libya',\n",
       " 'Lithuania',\n",
       " 'Luxembourg',\n",
       " 'Macao SAR',\n",
       " 'Madagascar',\n",
       " 'Malawi',\n",
       " 'Malaysia',\n",
       " 'Maldives',\n",
       " 'Mali',\n",
       " 'Malta',\n",
       " 'Marshall Islands',\n",
       " 'Mauritania',\n",
       " 'Mauritius',\n",
       " 'Mexico',\n",
       " 'Micronesia, Fed. States of',\n",
       " 'Moldova',\n",
       " 'Mongolia',\n",
       " 'Montenegro',\n",
       " 'Morocco',\n",
       " 'Mozambique',\n",
       " 'Myanmar',\n",
       " 'Namibia',\n",
       " 'Nauru',\n",
       " 'Nepal',\n",
       " 'Netherlands',\n",
       " 'New Zealand',\n",
       " 'Nicaragua',\n",
       " 'Niger',\n",
       " 'Nigeria',\n",
       " 'North Macedonia ',\n",
       " 'Norway',\n",
       " 'Oman',\n",
       " 'Pakistan',\n",
       " 'Palau',\n",
       " 'Panama',\n",
       " 'Papua New Guinea',\n",
       " 'Paraguay',\n",
       " 'Peru',\n",
       " 'Philippines',\n",
       " 'Poland',\n",
       " 'Portugal',\n",
       " 'Puerto Rico',\n",
       " 'Qatar',\n",
       " 'Romania',\n",
       " 'Russian Federation',\n",
       " 'Rwanda',\n",
       " 'Saint Kitts and Nevis',\n",
       " 'Saint Lucia',\n",
       " 'Saint Vincent and the Grenadines',\n",
       " 'Samoa',\n",
       " 'San Marino',\n",
       " 'Saudi Arabia',\n",
       " 'Senegal',\n",
       " 'Serbia',\n",
       " 'Seychelles',\n",
       " 'Sierra Leone',\n",
       " 'Singapore',\n",
       " 'Slovak Republic',\n",
       " 'Slovenia',\n",
       " 'Solomon Islands',\n",
       " 'Somalia',\n",
       " 'South Africa',\n",
       " 'South Sudan, Republic of',\n",
       " 'Spain',\n",
       " 'Sri Lanka',\n",
       " 'Sudan',\n",
       " 'Suriname',\n",
       " 'Sweden',\n",
       " 'Switzerland',\n",
       " 'Syria',\n",
       " 'São Tomé and Príncipe',\n",
       " 'Taiwan Province of China',\n",
       " 'Tajikistan',\n",
       " 'Tanzania',\n",
       " 'Thailand',\n",
       " 'Timor-Leste',\n",
       " 'Togo',\n",
       " 'Tonga',\n",
       " 'Trinidad and Tobago',\n",
       " 'Tunisia',\n",
       " 'Turkmenistan',\n",
       " 'Tuvalu',\n",
       " 'Türkiye, Republic of',\n",
       " 'Uganda',\n",
       " 'Ukraine',\n",
       " 'United Arab Emirates',\n",
       " 'United Kingdom',\n",
       " 'United States',\n",
       " 'Uruguay',\n",
       " 'Uzbekistan',\n",
       " 'Vanuatu',\n",
       " 'Venezuela',\n",
       " 'Vietnam',\n",
       " 'West Bank and Gaza',\n",
       " 'Yemen',\n",
       " 'Zambia',\n",
       " 'Zimbabwe']"
      ]
     },
     "execution_count": 6,
     "metadata": {},
     "output_type": "execute_result"
    }
   ],
   "execution_count": 6
  },
  {
   "metadata": {},
   "cell_type": "markdown",
   "source": [
    "## Collection: Global Inflation\n",
    "Vedi sopra"
   ],
   "id": "b6901ca16ed0b9a9"
  },
  {
   "metadata": {
    "ExecuteTime": {
     "end_time": "2024-05-30T13:11:23.267799Z",
     "start_time": "2024-05-30T13:11:23.264686Z"
    }
   },
   "cell_type": "code",
   "source": [
    "query = {\"country_name\": \"Italy\"}\n",
    "utils.query_print_all(global_inflation, query)"
   ],
   "id": "6ad2171d366e5d03",
   "outputs": [
    {
     "name": "stdout",
     "output_type": "stream",
     "text": [
      "{'_id': ObjectId('6655da1712bd7dbca3c5bc11'), '1980': 21.8, '1981': 19.5, '1982': 16.5, '1983': 14.7, '1984': 10.7, '1985': 9, '1986': 5.8, '1987': 4.7, '1988': 5.1, '1989': 6.2, '1990': 6.4, '1991': 6.2, '1992': 5, '1993': 4.5, '1994': 4.2, '1995': 5.4, '1996': 4, '1997': 1.8, '1998': 2, '1999': 1.7, '2000': 2.6, '2001': 2.3, '2002': 2.6, '2003': 2.8, '2004': 2.3, '2005': 2.2, '2006': 2.2, '2007': 2, '2008': 3.5, '2009': 0.8, '2010': 1.6, '2011': 2.9, '2012': 3.3, '2013': 1.2, '2014': 0.2, '2015': 0.1, '2016': -0.1, '2017': 1.3, '2018': 1.2, '2019': 0.6, '2020': -0.1, '2021': 1.9, '2022': 8.7, '2023': 6, '2024': 2.6, 'country_name': 'Italy', 'indicator_name': 'Annual average inflation (consumer prices) rate'}\n"
     ]
    }
   ],
   "execution_count": 7
  },
  {
   "metadata": {},
   "cell_type": "markdown",
   "source": "Estrazione Paese con maggiore inflazione in base all'anno",
   "id": "251e7eb23f0b3e43"
  },
  {
   "metadata": {
    "ExecuteTime": {
     "end_time": "2024-05-30T13:11:23.434188Z",
     "start_time": "2024-05-30T13:11:23.268715Z"
    }
   },
   "cell_type": "code",
   "source": [
    "# Query per trovare il paese con la massima inflazione in un anno specifico\n",
    "anno = 2025\n",
    "max_inflation = utils.get_max_infl_year(global_inflation, anno)\n",
    "\n",
    "country_max_infl = global_inflation.find_one({\"_id\": max_inflation.next()['_id']})\n",
    "country_name = country_max_infl['country_name']\n",
    "print(f\"Il paese con la maggiore inflazione nel {anno} è: {country_name} con un valore di {country_max_infl[str(anno)]}%\")"
   ],
   "id": "6868457abebfa7a1",
   "outputs": [
    {
     "ename": "ValueError",
     "evalue": "L'anno deve essere compreso tra il 1980 e il 2024!",
     "output_type": "error",
     "traceback": [
      "\u001B[0;31m---------------------------------------------------------------------------\u001B[0m",
      "\u001B[0;31mValueError\u001B[0m                                Traceback (most recent call last)",
      "Cell \u001B[0;32mIn[8], line 3\u001B[0m\n\u001B[1;32m      1\u001B[0m \u001B[38;5;66;03m# Query per trovare il paese con la massima inflazione in un anno specifico\u001B[39;00m\n\u001B[1;32m      2\u001B[0m anno \u001B[38;5;241m=\u001B[39m \u001B[38;5;241m2025\u001B[39m\n\u001B[0;32m----> 3\u001B[0m max_inflation \u001B[38;5;241m=\u001B[39m \u001B[43mutils\u001B[49m\u001B[38;5;241;43m.\u001B[39;49m\u001B[43mget_max_infl_year\u001B[49m\u001B[43m(\u001B[49m\u001B[43mglobal_inflation\u001B[49m\u001B[43m,\u001B[49m\u001B[43m \u001B[49m\u001B[43manno\u001B[49m\u001B[43m)\u001B[49m\n\u001B[1;32m      5\u001B[0m country_max_infl \u001B[38;5;241m=\u001B[39m global_inflation\u001B[38;5;241m.\u001B[39mfind_one({\u001B[38;5;124m\"\u001B[39m\u001B[38;5;124m_id\u001B[39m\u001B[38;5;124m\"\u001B[39m: max_inflation\u001B[38;5;241m.\u001B[39mnext()[\u001B[38;5;124m'\u001B[39m\u001B[38;5;124m_id\u001B[39m\u001B[38;5;124m'\u001B[39m]})\n\u001B[1;32m      6\u001B[0m country_name \u001B[38;5;241m=\u001B[39m country_max_infl[\u001B[38;5;124m'\u001B[39m\u001B[38;5;124mcountry_name\u001B[39m\u001B[38;5;124m'\u001B[39m]\n",
      "File \u001B[0;32m~/PycharmProjects/ProgettoBD2_InflationAnalysis/utils.py:20\u001B[0m, in \u001B[0;36mget_max_infl_year\u001B[0;34m(collection, anno)\u001B[0m\n\u001B[1;32m     18\u001B[0m \u001B[38;5;28;01mdef\u001B[39;00m \u001B[38;5;21mget_max_infl_year\u001B[39m(collection, anno):\n\u001B[1;32m     19\u001B[0m     \u001B[38;5;28;01mif\u001B[39;00m anno \u001B[38;5;241m<\u001B[39m \u001B[38;5;241m1980\u001B[39m \u001B[38;5;129;01mor\u001B[39;00m anno \u001B[38;5;241m>\u001B[39m \u001B[38;5;241m2024\u001B[39m:\n\u001B[0;32m---> 20\u001B[0m         \u001B[38;5;28;01mraise\u001B[39;00m \u001B[38;5;167;01mValueError\u001B[39;00m(\u001B[38;5;124m\"\u001B[39m\u001B[38;5;124mL\u001B[39m\u001B[38;5;124m'\u001B[39m\u001B[38;5;124manno deve essere compreso tra il 1980 e il 2024!\u001B[39m\u001B[38;5;124m\"\u001B[39m)\n\u001B[1;32m     22\u001B[0m     \u001B[38;5;28;01mreturn\u001B[39;00m collection\u001B[38;5;241m.\u001B[39maggregate([\n\u001B[1;32m     23\u001B[0m         {\u001B[38;5;124m\"\u001B[39m\u001B[38;5;124m$project\u001B[39m\u001B[38;5;124m\"\u001B[39m: {\u001B[38;5;124m\"\u001B[39m\u001B[38;5;124mcountry\u001B[39m\u001B[38;5;124m\"\u001B[39m: \u001B[38;5;241m1\u001B[39m, \u001B[38;5;28mstr\u001B[39m(anno): \u001B[38;5;241m1\u001B[39m}},\n\u001B[1;32m     24\u001B[0m         {\u001B[38;5;124m\"\u001B[39m\u001B[38;5;124m$sort\u001B[39m\u001B[38;5;124m\"\u001B[39m: {\u001B[38;5;28mstr\u001B[39m(anno): \u001B[38;5;241m-\u001B[39m\u001B[38;5;241m1\u001B[39m}},\n\u001B[1;32m     25\u001B[0m         {\u001B[38;5;124m\"\u001B[39m\u001B[38;5;124m$limit\u001B[39m\u001B[38;5;124m\"\u001B[39m: \u001B[38;5;241m1\u001B[39m}\n\u001B[1;32m     26\u001B[0m     ])\n",
      "\u001B[0;31mValueError\u001B[0m: L'anno deve essere compreso tra il 1980 e il 2024!"
     ]
    }
   ],
   "execution_count": 8
  },
  {
   "metadata": {
    "ExecuteTime": {
     "end_time": "2024-05-30T13:11:23.435397Z",
     "start_time": "2024-05-30T13:11:23.435323Z"
    }
   },
   "cell_type": "code",
   "source": [
    "del country_max_infl['_id']\n",
    "del country_max_infl['country_name']\n",
    "del country_max_infl['indicator_name']"
   ],
   "id": "1c3b218e054d938d",
   "outputs": [],
   "execution_count": null
  },
  {
   "metadata": {},
   "cell_type": "markdown",
   "source": "Plot dei cazzi del venezuela",
   "id": "4162d37683ae41ed"
  },
  {
   "metadata": {},
   "cell_type": "code",
   "source": [
    "import matplotlib.pyplot as plt\n",
    "\n",
    "anni = list(country_max_infl.keys())\n",
    "inflazione = list(country_max_infl.values())\n",
    "plt.figure(figsize=(10, 6))\n",
    "plt.plot(anni, inflazione, marker='o', label='Inflazione annuale')\n",
    "plt.xlabel('Anno')\n",
    "plt.ylabel('Inflazione (%)')\n",
    "plt.title(f'Inflazione annuale di: {country_name}')\n",
    "plt.xticks(rotation=90)\n",
    "plt.show()"
   ],
   "id": "397b1c4cd9e2a5e",
   "outputs": [],
   "execution_count": null
  },
  {
   "metadata": {},
   "cell_type": "markdown",
   "source": "Inflazione media per paese",
   "id": "6fc615eb2c70cf3"
  },
  {
   "metadata": {
    "ExecuteTime": {
     "end_time": "2024-05-30T13:11:48.752464Z",
     "start_time": "2024-05-30T13:11:48.713345Z"
    }
   },
   "cell_type": "code",
   "source": [
    "country_name = \"Italy\"\n",
    "avg_ita_infl = utils.get_avg_infl_years(global_inflation, country_name)\n",
    "print(f\"L'inflazione media in {country_name} dal 1980 al 2024 è {avg_ita_infl.next()['avgInflation']:.2f}%\")"
   ],
   "id": "fc81ad4b2627371f",
   "outputs": [
    {
     "ename": "StopIteration",
     "evalue": "",
     "output_type": "error",
     "traceback": [
      "\u001B[0;31m---------------------------------------------------------------------------\u001B[0m",
      "\u001B[0;31mStopIteration\u001B[0m                             Traceback (most recent call last)",
      "Cell \u001B[0;32mIn[9], line 5\u001B[0m\n\u001B[1;32m      3\u001B[0m country_name \u001B[38;5;241m=\u001B[39m \u001B[38;5;124m\"\u001B[39m\u001B[38;5;124mItalyy\u001B[39m\u001B[38;5;124m\"\u001B[39m\n\u001B[1;32m      4\u001B[0m avg_ita_infl \u001B[38;5;241m=\u001B[39m utils\u001B[38;5;241m.\u001B[39mget_avg_infl_years(global_inflation, country_name)\n\u001B[0;32m----> 5\u001B[0m \u001B[38;5;28mprint\u001B[39m(\u001B[38;5;124mf\u001B[39m\u001B[38;5;124m\"\u001B[39m\u001B[38;5;124mL\u001B[39m\u001B[38;5;124m'\u001B[39m\u001B[38;5;124minflazione media in \u001B[39m\u001B[38;5;132;01m{\u001B[39;00mcountry_name\u001B[38;5;132;01m}\u001B[39;00m\u001B[38;5;124m dal 1980 al 2024 è \u001B[39m\u001B[38;5;132;01m{\u001B[39;00m\u001B[43mavg_ita_infl\u001B[49m\u001B[38;5;241;43m.\u001B[39;49m\u001B[43mnext\u001B[49m\u001B[43m(\u001B[49m\u001B[43m)\u001B[49m[\u001B[38;5;124m'\u001B[39m\u001B[38;5;124mavgInflation\u001B[39m\u001B[38;5;124m'\u001B[39m]\u001B[38;5;132;01m:\u001B[39;00m\u001B[38;5;124m.2f\u001B[39m\u001B[38;5;132;01m}\u001B[39;00m\u001B[38;5;124m%\u001B[39m\u001B[38;5;124m\"\u001B[39m)\n",
      "File \u001B[0;32m~/miniconda3/envs/mongo/lib/python3.12/site-packages/pymongo/command_cursor.py:313\u001B[0m, in \u001B[0;36mCommandCursor.next\u001B[0;34m(self)\u001B[0m\n\u001B[1;32m    310\u001B[0m     \u001B[38;5;28;01mif\u001B[39;00m doc \u001B[38;5;129;01mis\u001B[39;00m \u001B[38;5;129;01mnot\u001B[39;00m \u001B[38;5;28;01mNone\u001B[39;00m:\n\u001B[1;32m    311\u001B[0m         \u001B[38;5;28;01mreturn\u001B[39;00m doc\n\u001B[0;32m--> 313\u001B[0m \u001B[38;5;28;01mraise\u001B[39;00m \u001B[38;5;167;01mStopIteration\u001B[39;00m\n",
      "\u001B[0;31mStopIteration\u001B[0m: "
     ]
    }
   ],
   "execution_count": 9
  },
  {
   "metadata": {},
   "cell_type": "code",
   "source": "# Codice USA",
   "id": "6d12eb93aca256b",
   "outputs": [],
   "execution_count": null
  },
  {
   "metadata": {},
   "cell_type": "markdown",
   "source": [
    "## Collection: Consumer Price Index\n",
    "🇺🇸🇺🇸🇺🇸🇺🇸🇺🇸 **USA**: THE MOST DEMOCRATIC COUNTRY IN THE WHOLE WORLD! \\\n",
    "GODDAMN! AAAAAAAAAAAAAAAAAAAAA! \\\n",
    " I FUCKING LOVE ALL THOSE DEADLY WEAPONS!!!🇺🇸🇺🇸🇺🇸🇺🇸🇺🇸"
   ],
   "id": "5b355f9f16d95d31"
  },
  {
   "metadata": {},
   "cell_type": "markdown",
   "source": "",
   "id": "3fc52bbbd53e1a81"
  },
  {
   "metadata": {},
   "cell_type": "code",
   "source": "",
   "id": "2a2eddd33915d04",
   "outputs": [],
   "execution_count": null
  }
 ],
 "metadata": {
  "kernelspec": {
   "display_name": "Python 3",
   "language": "python",
   "name": "python3"
  },
  "language_info": {
   "codemirror_mode": {
    "name": "ipython",
    "version": 2
   },
   "file_extension": ".py",
   "mimetype": "text/x-python",
   "name": "python",
   "nbconvert_exporter": "python",
   "pygments_lexer": "ipython2",
   "version": "2.7.6"
  }
 },
 "nbformat": 4,
 "nbformat_minor": 5
}
