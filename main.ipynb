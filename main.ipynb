{
 "cells": [
  {
   "cell_type": "code",
   "id": "initial_id",
   "metadata": {
    "collapsed": true,
    "ExecuteTime": {
     "end_time": "2024-05-28T13:36:18.032227Z",
     "start_time": "2024-05-28T13:36:12.995281Z"
    }
   },
   "source": [
    "import pymongo\n",
    "import pandas as pd\n",
    "import matplotlib.pyplot as plt\n",
    "\n",
    "client = pymongo.MongoClient(\"mongodb://localhost:27017/\")\n",
    "db = client[\"ProgettoBD2\"]\n",
    "food = db[\"food\"]"
   ],
   "outputs": [],
   "execution_count": 1
  },
  {
   "metadata": {
    "ExecuteTime": {
     "end_time": "2024-05-28T13:36:22.942937Z",
     "start_time": "2024-05-28T13:36:22.905270Z"
    }
   },
   "cell_type": "code",
   "source": [
    "myquery = { \"High\": { \"$gt\": 20 } }\n",
    "mydoc = food.find(myquery)\n",
    "\n",
    "for x in mydoc:\n",
    "  print(x) "
   ],
   "id": "760a28952c692c9b",
   "outputs": [
    {
     "name": "stdout",
     "output_type": "stream",
     "text": [
      "{'_id': ObjectId('6655ac354d00c539704c52cc'), 'Open': 21, 'High': 21.58, 'Low': 20.42, 'Close': 21.13, 'Inflation': 153.8, 'country': 'Lebanon', 'ISO3': 'LBN', 'date': datetime.datetime(2022, 10, 1, 0, 0)}\n",
      "{'_id': ObjectId('6655ac354d00c539704c52cd'), 'Open': 22.85, 'High': 23.35, 'Low': 21.47, 'Close': 21.47, 'Inflation': 126.15, 'country': 'Lebanon', 'ISO3': 'LBN', 'date': datetime.datetime(2022, 11, 1, 0, 0)}\n",
      "{'_id': ObjectId('6655ac354d00c539704c52ce'), 'Open': 22.69, 'High': 23.41, 'Low': 21.98, 'Close': 23, 'Inflation': 108.36, 'country': 'Lebanon', 'ISO3': 'LBN', 'date': datetime.datetime(2022, 12, 1, 0, 0)}\n",
      "{'_id': ObjectId('6655ac354d00c539704c52cf'), 'Open': 24.96, 'High': 25.57, 'Low': 24.35, 'Close': 25.33, 'Inflation': 107.23, 'country': 'Lebanon', 'ISO3': 'LBN', 'date': datetime.datetime(2023, 1, 1, 0, 0)}\n",
      "{'_id': ObjectId('6655ac354d00c539704c52d0'), 'Open': 27.4, 'High': 27.95, 'Low': 26.19, 'Close': 26.19, 'Inflation': 131.5, 'country': 'Lebanon', 'ISO3': 'LBN', 'date': datetime.datetime(2023, 2, 1, 0, 0)}\n",
      "{'_id': ObjectId('6655ac354d00c539704c52d1'), 'Open': 27.7, 'High': 28.39, 'Low': 27, 'Close': 28.24, 'Inflation': 139.29, 'country': 'Lebanon', 'ISO3': 'LBN', 'date': datetime.datetime(2023, 3, 1, 0, 0)}\n",
      "{'_id': ObjectId('6655ac354d00c539704c52d2'), 'Open': 30.58, 'High': 31.22, 'Low': 29.95, 'Close': 30.15, 'Inflation': 132.3, 'country': 'Lebanon', 'ISO3': 'LBN', 'date': datetime.datetime(2023, 4, 1, 0, 0)}\n",
      "{'_id': ObjectId('6655ac354d00c539704c52d3'), 'Open': 32.15, 'High': 32.72, 'Low': 31.58, 'Close': 32.19, 'Inflation': 121.53, 'country': 'Lebanon', 'ISO3': 'LBN', 'date': datetime.datetime(2023, 5, 1, 0, 0)}\n",
      "{'_id': ObjectId('6655ac354d00c539704c52d4'), 'Open': 34.54, 'High': 35.03, 'Low': 34.06, 'Close': 34.93, 'Inflation': 125.45, 'country': 'Lebanon', 'ISO3': 'LBN', 'date': datetime.datetime(2023, 6, 1, 0, 0)}\n",
      "{'_id': ObjectId('6655ac354d00c539704c52d5'), 'Open': 37.6, 'High': 38.06, 'Low': 37.13, 'Close': 37.67, 'Inflation': 137.39, 'country': 'Lebanon', 'ISO3': 'LBN', 'date': datetime.datetime(2023, 7, 1, 0, 0)}\n",
      "{'_id': ObjectId('6655ac354d00c539704c52d6'), 'Open': 40.42, 'High': 40.84, 'Low': 40.01, 'Close': 40.43, 'Inflation': 139.28, 'country': 'Lebanon', 'ISO3': 'LBN', 'date': datetime.datetime(2023, 8, 1, 0, 0)}\n",
      "{'_id': ObjectId('6655ac354d00c539704c52d7'), 'Open': 43.41, 'High': 43.79, 'Low': 42.87, 'Close': 42.87, 'Inflation': 123.83, 'country': 'Lebanon', 'ISO3': 'LBN', 'date': datetime.datetime(2023, 9, 1, 0, 0)}\n",
      "{'_id': ObjectId('6655ac354d00c539704c52d8'), 'Open': 45.81, 'High': 46.63, 'Low': 45.38, 'Close': 46.63, 'Inflation': 120.65, 'country': 'Lebanon', 'ISO3': 'LBN', 'date': datetime.datetime(2023, 10, 1, 0, 0)}\n",
      "{'_id': ObjectId('6655ac354d00c539704c5839'), 'Open': 19.5, 'High': 21.3, 'Low': 18.8, 'Close': 21.3, 'Inflation': 175.68, 'country': 'Sudan', 'ISO3': 'SDN', 'date': datetime.datetime(2021, 9, 1, 0, 0)}\n",
      "{'_id': ObjectId('6655ac354d00c539704c583a'), 'Open': 23.23, 'High': 24.1, 'Low': 22.05, 'Close': 22.05, 'Inflation': 133.32, 'country': 'Sudan', 'ISO3': 'SDN', 'date': datetime.datetime(2021, 10, 1, 0, 0)}\n",
      "{'_id': ObjectId('6655ac354d00c539704c583b'), 'Open': 23.27, 'High': 24.17, 'Low': 22.38, 'Close': 23.83, 'Inflation': 142.24, 'country': 'Sudan', 'ISO3': 'SDN', 'date': datetime.datetime(2021, 11, 1, 0, 0)}\n",
      "{'_id': ObjectId('6655ac354d00c539704c583c'), 'Open': 25.57, 'High': 26.5, 'Low': 24.05, 'Close': 24.05, 'Inflation': 147.93, 'country': 'Sudan', 'ISO3': 'SDN', 'date': datetime.datetime(2021, 12, 1, 0, 0)}\n",
      "{'_id': ObjectId('6655ac354d00c539704c583d'), 'Open': 25.28, 'High': 26.23, 'Low': 24.25, 'Close': 24.25, 'Inflation': 146.7, 'country': 'Sudan', 'ISO3': 'SDN', 'date': datetime.datetime(2022, 1, 1, 0, 0)}\n",
      "{'_id': ObjectId('6655ac354d00c539704c583e'), 'Open': 25.5, 'High': 26.44, 'Low': 24.56, 'Close': 25.03, 'Inflation': 104.2, 'country': 'Sudan', 'ISO3': 'SDN', 'date': datetime.datetime(2022, 2, 1, 0, 0)}\n",
      "{'_id': ObjectId('6655ac354d00c539704c583f'), 'Open': 26.42, 'High': 35.3, 'Low': 25.48, 'Close': 35.3, 'Inflation': 161.82, 'country': 'Sudan', 'ISO3': 'SDN', 'date': datetime.datetime(2022, 3, 1, 0, 0)}\n",
      "{'_id': ObjectId('6655ac354d00c539704c5840'), 'Open': 38.54, 'High': 42.39, 'Low': 37.05, 'Close': 42.39, 'Inflation': 194.23, 'country': 'Sudan', 'ISO3': 'SDN', 'date': datetime.datetime(2022, 4, 1, 0, 0)}\n",
      "{'_id': ObjectId('6655ac354d00c539704c5841'), 'Open': 46.37, 'High': 48.24, 'Low': 43.29, 'Close': 43.29, 'Inflation': 188.87, 'country': 'Sudan', 'ISO3': 'SDN', 'date': datetime.datetime(2022, 5, 1, 0, 0)}\n",
      "{'_id': ObjectId('6655ac354d00c539704c5842'), 'Open': 45.59, 'High': 48.02, 'Low': 43.67, 'Close': 48.02, 'Inflation': 193.74, 'country': 'Sudan', 'ISO3': 'SDN', 'date': datetime.datetime(2022, 6, 1, 0, 0)}\n",
      "{'_id': ObjectId('6655ac354d00c539704c5843'), 'Open': 52.03, 'High': 54.14, 'Low': 49.92, 'Close': 50.51, 'Inflation': 181.78, 'country': 'Sudan', 'ISO3': 'SDN', 'date': datetime.datetime(2022, 7, 1, 0, 0)}\n",
      "{'_id': ObjectId('6655ac354d00c539704c5844'), 'Open': 53.73, 'High': 55.89, 'Low': 51.58, 'Close': 55.77, 'Inflation': 201.75, 'country': 'Sudan', 'ISO3': 'SDN', 'date': datetime.datetime(2022, 8, 1, 0, 0)}\n",
      "{'_id': ObjectId('6655ac354d00c539704c5845'), 'Open': 60.28, 'High': 62.6, 'Low': 57.96, 'Close': 58.32, 'Inflation': 173.73, 'country': 'Sudan', 'ISO3': 'SDN', 'date': datetime.datetime(2022, 9, 1, 0, 0)}\n",
      "{'_id': ObjectId('6655ac354d00c539704c5846'), 'Open': 62.01, 'High': 64.37, 'Low': 58.01, 'Close': 58.01, 'Inflation': 163.02, 'country': 'Sudan', 'ISO3': 'SDN', 'date': datetime.datetime(2022, 10, 1, 0, 0)}\n",
      "{'_id': ObjectId('6655ac354d00c539704c5847'), 'Open': 60.96, 'High': 63.34, 'Low': 54.79, 'Close': 54.79, 'Inflation': 129.88, 'country': 'Sudan', 'ISO3': 'SDN', 'date': datetime.datetime(2022, 11, 1, 0, 0)}\n",
      "{'_id': ObjectId('6655ac354d00c539704c5848'), 'Open': 56.77, 'High': 59.19, 'Low': 54.34, 'Close': 57.32, 'Inflation': 138.32, 'country': 'Sudan', 'ISO3': 'SDN', 'date': datetime.datetime(2022, 12, 1, 0, 0)}\n",
      "{'_id': ObjectId('6655ac354d00c539704c5849'), 'Open': 60.85, 'High': 63.28, 'Low': 56.76, 'Close': 56.76, 'Inflation': 134.04, 'country': 'Sudan', 'ISO3': 'SDN', 'date': datetime.datetime(2023, 1, 1, 0, 0)}\n",
      "{'_id': ObjectId('6655ac354d00c539704c584a'), 'Open': 59.05, 'High': 61.49, 'Low': 56.62, 'Close': 60.29, 'Inflation': 140.92, 'country': 'Sudan', 'ISO3': 'SDN', 'date': datetime.datetime(2023, 2, 1, 0, 0)}\n",
      "{'_id': ObjectId('6655ac354d00c539704c584b'), 'Open': 63.96, 'High': 66.46, 'Low': 61.46, 'Close': 64.98, 'Inflation': 84.1, 'country': 'Sudan', 'ISO3': 'SDN', 'date': datetime.datetime(2023, 3, 1, 0, 0)}\n",
      "{'_id': ObjectId('6655ac354d00c539704c584c'), 'Open': 69, 'High': 71.6, 'Low': 66.4, 'Close': 68.54, 'Inflation': 61.67, 'country': 'Sudan', 'ISO3': 'SDN', 'date': datetime.datetime(2023, 4, 1, 0, 0)}\n",
      "{'_id': ObjectId('6655ac354d00c539704c584d'), 'Open': 72.36, 'High': 75, 'Low': 69.73, 'Close': 71.2, 'Inflation': 64.48, 'country': 'Sudan', 'ISO3': 'SDN', 'date': datetime.datetime(2023, 5, 1, 0, 0)}\n",
      "{'_id': ObjectId('6655ac354d00c539704c584e'), 'Open': 74.94, 'High': 77.59, 'Low': 70.2, 'Close': 70.2, 'Inflation': 46.19, 'country': 'Sudan', 'ISO3': 'SDN', 'date': datetime.datetime(2023, 6, 1, 0, 0)}\n",
      "{'_id': ObjectId('6655ac354d00c539704c584f'), 'Open': 72.84, 'High': 75.51, 'Low': 70.18, 'Close': 73.36, 'Inflation': 45.25, 'country': 'Sudan', 'ISO3': 'SDN', 'date': datetime.datetime(2023, 7, 1, 0, 0)}\n",
      "{'_id': ObjectId('6655ac354d00c539704c5850'), 'Open': 77.3, 'High': 79.99, 'Low': 74.61, 'Close': 75.16, 'Inflation': 34.75, 'country': 'Sudan', 'ISO3': 'SDN', 'date': datetime.datetime(2023, 8, 1, 0, 0)}\n",
      "{'_id': ObjectId('6655ac354d00c539704c5851'), 'Open': 78.51, 'High': 94.21, 'Low': 75.82, 'Close': 94.21, 'Inflation': 61.55, 'country': 'Sudan', 'ISO3': 'SDN', 'date': datetime.datetime(2023, 9, 1, 0, 0)}\n",
      "{'_id': ObjectId('6655ac354d00c539704c5852'), 'Open': 102.46, 'High': 106.48, 'Low': 94.42, 'Close': 94.42, 'Inflation': 62.78, 'country': 'Sudan', 'ISO3': 'SDN', 'date': datetime.datetime(2023, 10, 1, 0, 0)}\n"
     ]
    }
   ],
   "execution_count": 2
  }
 ],
 "metadata": {
  "kernelspec": {
   "display_name": "Python 3",
   "language": "python",
   "name": "python3"
  },
  "language_info": {
   "codemirror_mode": {
    "name": "ipython",
    "version": 2
   },
   "file_extension": ".py",
   "mimetype": "text/x-python",
   "name": "python",
   "nbconvert_exporter": "python",
   "pygments_lexer": "ipython2",
   "version": "2.7.6"
  }
 },
 "nbformat": 4,
 "nbformat_minor": 5
}
